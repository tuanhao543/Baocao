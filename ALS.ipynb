{
 "cells": [
  {
   "cell_type": "code",
   "execution_count": 1,
   "id": "650c220e-69a1-41f8-9c61-1599f55d8d47",
   "metadata": {},
   "outputs": [
    {
     "name": "stderr",
     "output_type": "stream",
     "text": [
      "/usr/lib/python3/dist-packages/scipy/__init__.py:146: UserWarning: A NumPy version >=1.17.3 and <1.25.0 is required for this version of SciPy (detected version 1.26.2\n",
      "  warnings.warn(f\"A NumPy version >={np_minversion} and <{np_maxversion}\"\n"
     ]
    }
   ],
   "source": [
    "import pandas as pd\n",
    "\n",
    "from pyspark.sql import SparkSession\n",
    "\n",
    "from pyspark.sql import SQLContext\n",
    "\n",
    "from pyspark.ml.evaluation import RegressionEvaluator\n",
    "\n",
    "from pyspark.ml.recommendation import ALS\n",
    "\n",
    "from pyspark.sql.functions import udf, col, when, split, regexp_extract\n",
    "\n",
    "import numpy as np\n",
    "\n",
    "from IPython.display import Image\n",
    "\n",
    "from IPython.display import display"
   ]
  },
  {
   "cell_type": "code",
   "execution_count": 2,
   "id": "bcdd7178-ece1-4b5c-a0ef-bd292104d202",
   "metadata": {},
   "outputs": [
    {
     "name": "stderr",
     "output_type": "stream",
     "text": [
      "23/11/20 19:40:55 WARN Utils: Your hostname, nhom6nth-virtual-machine resolves to a loopback address: 127.0.1.1; using 192.168.59.139 instead (on interface ens33)\n",
      "23/11/20 19:40:55 WARN Utils: Set SPARK_LOCAL_IP if you need to bind to another address\n",
      "Setting default log level to \"WARN\".\n",
      "To adjust logging level use sc.setLogLevel(newLevel). For SparkR, use setLogLevel(newLevel).\n",
      "23/11/20 19:40:56 WARN NativeCodeLoader: Unable to load native-hadoop library for your platform... using builtin-java classes where applicable\n",
      "23/11/20 19:40:57 WARN Utils: Service 'SparkUI' could not bind on port 4040. Attempting port 4041.\n"
     ]
    }
   ],
   "source": [
    "spark = SparkSession.builder.appName(\"ALS_Recommend\").getOrCreate()"
   ]
  },
  {
   "cell_type": "code",
   "execution_count": 3,
   "id": "ec41949d-c1df-4c40-8210-399afc9b8a4e",
   "metadata": {},
   "outputs": [
    {
     "name": "stderr",
     "output_type": "stream",
     "text": [
      "/usr/local/lib/python3.10/dist-packages/pyspark/sql/context.py:113: FutureWarning: Deprecated in 3.0.0. Use SparkSession.builder.getOrCreate() instead.\n",
      "  warnings.warn(\n"
     ]
    }
   ],
   "source": [
    "# Tạo một đối tượng SparkContext (sc) để quản lý các tác vụ trên Spark.\n",
    "sc = spark.sparkContext\n",
    "\n",
    "# Tạo một đối tượng SQLContext (sqlContext) để thực hiện các truy vấn SQL trên Spark DataFrame.\n",
    "sqlContext = SQLContext(sc)\n"
   ]
  },
  {
   "cell_type": "code",
   "execution_count": 4,
   "id": "d5407cfa-fc26-45fa-986e-c3430764b0eb",
   "metadata": {},
   "outputs": [
    {
     "name": "stderr",
     "output_type": "stream",
     "text": [
      "                                                                                \r"
     ]
    },
    {
     "name": "stdout",
     "output_type": "stream",
     "text": [
      "root\n",
      " |-- movieId: integer (nullable = true)\n",
      " |-- title: string (nullable = true)\n",
      " |-- genres: string (nullable = true)\n",
      "\n"
     ]
    },
    {
     "name": "stderr",
     "output_type": "stream",
     "text": [
      "                                                                                \r"
     ]
    }
   ],
   "source": [
    "df_movies = spark.read.csv('movies.csv', inferSchema=True, header=True) \n",
    "df_movies.printSchema()"
   ]
  },
  {
   "cell_type": "code",
   "execution_count": 5,
   "id": "aa5dddab-6db8-41d6-a14c-6e1a8d19a991",
   "metadata": {},
   "outputs": [
    {
     "name": "stdout",
     "output_type": "stream",
     "text": [
      "+-------+--------------------+--------------------+\n",
      "|movieId|               title|              genres|\n",
      "+-------+--------------------+--------------------+\n",
      "|      1|    Toy Story (1995)|Adventure|Animati...|\n",
      "|      2|      Jumanji (1995)|Adventure|Childre...|\n",
      "|      3|Grumpier Old Men ...|      Comedy|Romance|\n",
      "|      4|Waiting to Exhale...|Comedy|Drama|Romance|\n",
      "|      5|Father of the Bri...|              Comedy|\n",
      "|      6|         Heat (1995)|Action|Crime|Thri...|\n",
      "|      7|      Sabrina (1995)|      Comedy|Romance|\n",
      "|      8| Tom and Huck (1995)|  Adventure|Children|\n",
      "|      9| Sudden Death (1995)|              Action|\n",
      "|     10|    GoldenEye (1995)|Action|Adventure|...|\n",
      "|     11|American Presiden...|Comedy|Drama|Romance|\n",
      "|     12|Dracula: Dead and...|       Comedy|Horror|\n",
      "|     13|        Balto (1995)|Adventure|Animati...|\n",
      "|     14|        Nixon (1995)|               Drama|\n",
      "|     15|Cutthroat Island ...|Action|Adventure|...|\n",
      "|     16|       Casino (1995)|         Crime|Drama|\n",
      "|     17|Sense and Sensibi...|       Drama|Romance|\n",
      "|     18|   Four Rooms (1995)|              Comedy|\n",
      "|     19|Ace Ventura: When...|              Comedy|\n",
      "|     20|  Money Train (1995)|Action|Comedy|Cri...|\n",
      "+-------+--------------------+--------------------+\n",
      "only showing top 20 rows\n",
      "\n"
     ]
    }
   ],
   "source": [
    "df_movies.show()"
   ]
  },
  {
   "cell_type": "code",
   "execution_count": 6,
   "id": "ee9975fd-be18-4d30-ba07-13ae029219d2",
   "metadata": {},
   "outputs": [
    {
     "name": "stderr",
     "output_type": "stream",
     "text": [
      "[Stage 4:>                                                          (0 + 1) / 1]\r"
     ]
    },
    {
     "name": "stdout",
     "output_type": "stream",
     "text": [
      "root\n",
      " |-- userId: integer (nullable = true)\n",
      " |-- movieId: integer (nullable = true)\n",
      " |-- rating: double (nullable = true)\n",
      " |-- timestamp: integer (nullable = true)\n",
      "\n"
     ]
    },
    {
     "name": "stderr",
     "output_type": "stream",
     "text": [
      "                                                                                \r"
     ]
    }
   ],
   "source": [
    "df_ratings = spark.read.csv('ratings.csv', inferSchema=True, header=True) \n",
    "df_ratings.printSchema()"
   ]
  },
  {
   "cell_type": "code",
   "execution_count": 7,
   "id": "85680bde-448f-4290-9f61-8e9975dea8f2",
   "metadata": {},
   "outputs": [
    {
     "name": "stdout",
     "output_type": "stream",
     "text": [
      "+------+-------+------+---------+\n",
      "|userId|movieId|rating|timestamp|\n",
      "+------+-------+------+---------+\n",
      "|     1|      1|   4.0|964982703|\n",
      "|     1|      3|   4.0|964981247|\n",
      "|     1|      6|   4.0|964982224|\n",
      "|     1|     47|   5.0|964983815|\n",
      "|     1|     50|   5.0|964982931|\n",
      "|     1|     70|   3.0|964982400|\n",
      "|     1|    101|   5.0|964980868|\n",
      "|     1|    110|   4.0|964982176|\n",
      "|     1|    151|   5.0|964984041|\n",
      "|     1|    157|   5.0|964984100|\n",
      "|     1|    163|   5.0|964983650|\n",
      "|     1|    216|   5.0|964981208|\n",
      "|     1|    223|   3.0|964980985|\n",
      "|     1|    231|   5.0|964981179|\n",
      "|     1|    235|   4.0|964980908|\n",
      "|     1|    260|   5.0|964981680|\n",
      "|     1|    296|   3.0|964982967|\n",
      "|     1|    316|   3.0|964982310|\n",
      "|     1|    333|   5.0|964981179|\n",
      "|     1|    349|   4.0|964982563|\n",
      "+------+-------+------+---------+\n",
      "only showing top 20 rows\n",
      "\n"
     ]
    }
   ],
   "source": [
    "df_ratings.show()"
   ]
  },
  {
   "cell_type": "code",
   "execution_count": 8,
   "id": "1be690a1-a027-487d-9840-ae50d4fbafba",
   "metadata": {},
   "outputs": [
    {
     "name": "stdout",
     "output_type": "stream",
     "text": [
      "root\n",
      " |-- movieId: integer (nullable = true)\n",
      " |-- imdbId: integer (nullable = true)\n",
      " |-- tmdbId: integer (nullable = true)\n",
      "\n"
     ]
    }
   ],
   "source": [
    "df_links = spark.read.csv('links.csv', inferSchema=True, header=True) \n",
    "df_links.printSchema()"
   ]
  },
  {
   "cell_type": "code",
   "execution_count": 9,
   "id": "85579d0d-1895-4eb3-b502-22f49ca72408",
   "metadata": {},
   "outputs": [
    {
     "name": "stdout",
     "output_type": "stream",
     "text": [
      "+-------+------+------+\n",
      "|movieId|imdbId|tmdbId|\n",
      "+-------+------+------+\n",
      "|      1|114709|   862|\n",
      "|      2|113497|  8844|\n",
      "|      3|113228| 15602|\n",
      "|      4|114885| 31357|\n",
      "|      5|113041| 11862|\n",
      "|      6|113277|   949|\n",
      "|      7|114319| 11860|\n",
      "|      8|112302| 45325|\n",
      "|      9|114576|  9091|\n",
      "|     10|113189|   710|\n",
      "|     11|112346|  9087|\n",
      "|     12|112896| 12110|\n",
      "|     13|112453| 21032|\n",
      "|     14|113987| 10858|\n",
      "|     15|112760|  1408|\n",
      "|     16|112641|   524|\n",
      "|     17|114388|  4584|\n",
      "|     18|113101|     5|\n",
      "|     19|112281|  9273|\n",
      "|     20|113845| 11517|\n",
      "+-------+------+------+\n",
      "only showing top 20 rows\n",
      "\n"
     ]
    }
   ],
   "source": [
    "df_links.show()"
   ]
  },
  {
   "cell_type": "code",
   "execution_count": 10,
   "id": "169b7e93-160c-4630-930c-f419548d99b5",
   "metadata": {},
   "outputs": [
    {
     "name": "stdout",
     "output_type": "stream",
     "text": [
      "+-------+--------------------+--------------------+------+------+---------+------+------+\n",
      "|movieId|               title|              genres|userId|rating|timestamp|imdbId|tmdbId|\n",
      "+-------+--------------------+--------------------+------+------+---------+------+------+\n",
      "|      1|    Toy Story (1995)|Adventure|Animati...|     1|   4.0|964982703|114709|   862|\n",
      "|      3|Grumpier Old Men ...|      Comedy|Romance|     1|   4.0|964981247|113228| 15602|\n",
      "|      6|         Heat (1995)|Action|Crime|Thri...|     1|   4.0|964982224|113277|   949|\n",
      "|     47|Seven (a.k.a. Se7...|    Mystery|Thriller|     1|   5.0|964983815|114369|   807|\n",
      "|     50|Usual Suspects, T...|Crime|Mystery|Thr...|     1|   5.0|964982931|114814|   629|\n",
      "|     70|From Dusk Till Da...|Action|Comedy|Hor...|     1|   3.0|964982400|116367|   755|\n",
      "|    101|Bottle Rocket (1996)|Adventure|Comedy|...|     1|   5.0|964980868|115734| 13685|\n",
      "|    110|   Braveheart (1995)|    Action|Drama|War|     1|   4.0|964982176|112573|   197|\n",
      "|    151|      Rob Roy (1995)|Action|Drama|Roma...|     1|   5.0|964984041|114287| 11780|\n",
      "|    157|Canadian Bacon (1...|          Comedy|War|     1|   5.0|964984100|109370|  1775|\n",
      "|    163|    Desperado (1995)|Action|Romance|We...|     1|   5.0|964983650|112851|  8068|\n",
      "|    216|Billy Madison (1995)|              Comedy|     1|   5.0|964981208|112508| 11017|\n",
      "|    223|       Clerks (1994)|              Comedy|     1|   3.0|964980985|109445|  2292|\n",
      "|    231|Dumb & Dumber (Du...|    Adventure|Comedy|     1|   5.0|964981179|109686|  8467|\n",
      "|    235|      Ed Wood (1994)|        Comedy|Drama|     1|   4.0|964980908|109707|   522|\n",
      "|    260|Star Wars: Episod...|Action|Adventure|...|     1|   5.0|964981680| 76759|    11|\n",
      "|    296| Pulp Fiction (1994)|Comedy|Crime|Dram...|     1|   3.0|964982967|110912|   680|\n",
      "|    316|     Stargate (1994)|Action|Adventure|...|     1|   3.0|964982310|111282|  2164|\n",
      "|    333|    Tommy Boy (1995)|              Comedy|     1|   5.0|964981179|114694| 11381|\n",
      "|    349|Clear and Present...|Action|Crime|Dram...|     1|   4.0|964982563|109444|  9331|\n",
      "+-------+--------------------+--------------------+------+------+---------+------+------+\n",
      "only showing top 20 rows\n",
      "\n"
     ]
    }
   ],
   "source": [
    "# Kết hợp spark_df_movies và spark_df_ratings theo cột 'movieId'\n",
    "df_kethop = df_movies.join(df_ratings, on='movieId')\n",
    "\n",
    "# Kết hợp spark_df_kethop và spark_df_links theo cột 'movieId'\n",
    "df_kethop = df_kethop.join(df_links, on='movieId')\n",
    "\n",
    "# Hiển thị PySpark DataFrame sau khi kết hợp\n",
    "df_kethop.show()"
   ]
  },
  {
   "cell_type": "code",
   "execution_count": 11,
   "id": "10f2b3be-5cd4-4ad9-abac-9f1009348bf3",
   "metadata": {},
   "outputs": [
    {
     "name": "stderr",
     "output_type": "stream",
     "text": [
      "[Stage 14:>                                                         (0 + 1) / 1]\r"
     ]
    },
    {
     "name": "stdout",
     "output_type": "stream",
     "text": [
      "+-------+--------------------+--------------------+------+------+----------+------+------+\n",
      "|movieId|               title|              genres|userId|rating| timestamp|imdbId|tmdbId|\n",
      "+-------+--------------------+--------------------+------+------+----------+------+------+\n",
      "|      1|    Toy Story (1995)|Adventure|Animati...|     1|   4.0| 964982703|114709|   862|\n",
      "|      2|      Jumanji (1995)|Adventure|Childre...|     6|   4.0| 845553522|113497|  8844|\n",
      "|      3|Grumpier Old Men ...|      Comedy|Romance|     1|   4.0| 964981247|113228| 15602|\n",
      "|      4|Waiting to Exhale...|Comedy|Drama|Romance|     6|   3.0| 845554349|114885| 31357|\n",
      "|      5|Father of the Bri...|              Comedy|     6|   5.0| 845553938|113041| 11862|\n",
      "|      6|         Heat (1995)|Action|Crime|Thri...|     1|   4.0| 964982224|113277|   949|\n",
      "|      7|      Sabrina (1995)|      Comedy|Romance|     6|   4.0| 845554264|114319| 11860|\n",
      "|      8| Tom and Huck (1995)|  Adventure|Children|     6|   3.0| 845555281|112302| 45325|\n",
      "|      9| Sudden Death (1995)|              Action|   151|   4.0| 855947372|114576|  9091|\n",
      "|     10|    GoldenEye (1995)|Action|Adventure|...|     6|   3.0| 845553253|113189|   710|\n",
      "|     11|American Presiden...|Comedy|Drama|Romance|     6|   4.0| 845553489|112346|  9087|\n",
      "|     12|Dracula: Dead and...|       Comedy|Horror|    19|   1.0| 965705347|112896| 12110|\n",
      "|     13|        Balto (1995)|Adventure|Animati...|     6|   3.0| 845555588|112453| 21032|\n",
      "|     14|        Nixon (1995)|               Drama|    84|   4.0| 857653349|113987| 10858|\n",
      "|     15|Cutthroat Island ...|Action|Adventure|...|     6|   4.0| 845554505|112760|  1408|\n",
      "|     16|       Casino (1995)|         Crime|Drama|     6|   4.0| 845553819|112641|   524|\n",
      "|     17|Sense and Sensibi...|       Drama|Romance|     6|   4.0| 845553559|114388|  4584|\n",
      "|     18|   Four Rooms (1995)|              Comedy|    44|   4.0| 869252115|113101|     5|\n",
      "|     19|Ace Ventura: When...|              Comedy|     6|   2.0| 845553382|112281|  9273|\n",
      "|     20|  Money Train (1995)|Action|Comedy|Cri...|    78|   3.0|1252573422|113845| 11517|\n",
      "+-------+--------------------+--------------------+------+------+----------+------+------+\n",
      "only showing top 20 rows\n",
      "\n"
     ]
    },
    {
     "name": "stderr",
     "output_type": "stream",
     "text": [
      "                                                                                \r"
     ]
    }
   ],
   "source": [
    "# Xóa các dòng có giá trị \"(no genres listed)\" theo số movieId\n",
    "df_cleaned = df_kethop.filter(col('genres') != '(no genres listed)')\n",
    "\n",
    "# Giữ lại một dòng duy nhất cho mỗi số movieId\n",
    "df_cleaned = df_cleaned.dropDuplicates(['movieId'])\n",
    "\n",
    "# Hiển thị PySpark DataFrame sau khi xóa\n",
    "df_cleaned.show()"
   ]
  },
  {
   "cell_type": "code",
   "execution_count": 12,
   "id": "fe3233e9-ca4b-4cab-b62b-3dad8975e4c8",
   "metadata": {},
   "outputs": [],
   "source": [
    "df_moviesclean = df_cleaned[['movieId', 'title', 'genres']].drop_duplicates()\n",
    "df_ratingsclean = df_cleaned[['userId', 'movieId', 'rating', 'timestamp']]\n",
    "df_linksclean = df_cleaned[['movieId', 'imdbId', 'tmdbId']]"
   ]
  },
  {
   "cell_type": "code",
   "execution_count": 13,
   "id": "0f99d37e-f963-4daa-bfdf-77c118f6b99e",
   "metadata": {},
   "outputs": [
    {
     "name": "stderr",
     "output_type": "stream",
     "text": [
      "[Stage 19:>                                                         (0 + 1) / 1]\r"
     ]
    },
    {
     "name": "stdout",
     "output_type": "stream",
     "text": [
      "+-------+--------------------+--------------------+\n",
      "|movieId|               title|              genres|\n",
      "+-------+--------------------+--------------------+\n",
      "|      1|    Toy Story (1995)|Adventure|Animati...|\n",
      "|      2|      Jumanji (1995)|Adventure|Childre...|\n",
      "|      3|Grumpier Old Men ...|      Comedy|Romance|\n",
      "|      4|Waiting to Exhale...|Comedy|Drama|Romance|\n",
      "|      5|Father of the Bri...|              Comedy|\n",
      "|      6|         Heat (1995)|Action|Crime|Thri...|\n",
      "|      7|      Sabrina (1995)|      Comedy|Romance|\n",
      "|      8| Tom and Huck (1995)|  Adventure|Children|\n",
      "|      9| Sudden Death (1995)|              Action|\n",
      "|     10|    GoldenEye (1995)|Action|Adventure|...|\n",
      "|     11|American Presiden...|Comedy|Drama|Romance|\n",
      "|     12|Dracula: Dead and...|       Comedy|Horror|\n",
      "|     13|        Balto (1995)|Adventure|Animati...|\n",
      "|     14|        Nixon (1995)|               Drama|\n",
      "|     15|Cutthroat Island ...|Action|Adventure|...|\n",
      "|     16|       Casino (1995)|         Crime|Drama|\n",
      "|     17|Sense and Sensibi...|       Drama|Romance|\n",
      "|     18|   Four Rooms (1995)|              Comedy|\n",
      "|     19|Ace Ventura: When...|              Comedy|\n",
      "|     20|  Money Train (1995)|Action|Comedy|Cri...|\n",
      "+-------+--------------------+--------------------+\n",
      "only showing top 20 rows\n",
      "\n"
     ]
    },
    {
     "name": "stderr",
     "output_type": "stream",
     "text": [
      "                                                                                \r"
     ]
    }
   ],
   "source": [
    "df_moviesclean.show()"
   ]
  },
  {
   "cell_type": "code",
   "execution_count": 14,
   "id": "cac2192f-8925-4f34-9240-69bb290ff3b9",
   "metadata": {},
   "outputs": [
    {
     "name": "stdout",
     "output_type": "stream",
     "text": [
      "+-------+------------------------------+-------------------------------------------+----+\n",
      "|movieId|title                         |genres                                     |year|\n",
      "+-------+------------------------------+-------------------------------------------+----+\n",
      "|1      |Toy Story                     |Adventure|Animation|Children|Comedy|Fantasy|1995|\n",
      "|2      |Jumanji                       |Adventure|Children|Fantasy                 |1995|\n",
      "|3      |Grumpier Old Men              |Comedy|Romance                             |1995|\n",
      "|4      |Waiting to Exhale             |Comedy|Drama|Romance                       |1995|\n",
      "|5      |Father of the Bride Part II   |Comedy                                     |1995|\n",
      "|6      |Heat                          |Action|Crime|Thriller                      |1995|\n",
      "|7      |Sabrina                       |Comedy|Romance                             |1995|\n",
      "|8      |Tom and Huck                  |Adventure|Children                         |1995|\n",
      "|9      |Sudden Death                  |Action                                     |1995|\n",
      "|10     |GoldenEye                     |Action|Adventure|Thriller                  |1995|\n",
      "|11     |American President, The       |Comedy|Drama|Romance                       |1995|\n",
      "|12     |Dracula: Dead and Loving It   |Comedy|Horror                              |1995|\n",
      "|13     |Balto                         |Adventure|Animation|Children               |1995|\n",
      "|14     |Nixon                         |Drama                                      |1995|\n",
      "|15     |Cutthroat Island              |Action|Adventure|Romance                   |1995|\n",
      "|16     |Casino                        |Crime|Drama                                |1995|\n",
      "|17     |Sense and Sensibility         |Drama|Romance                              |1995|\n",
      "|18     |Four Rooms                    |Comedy                                     |1995|\n",
      "|19     |Ace Ventura: When Nature Calls|Comedy                                     |1995|\n",
      "|20     |Money Train                   |Action|Comedy|Crime|Drama|Thriller         |1995|\n",
      "+-------+------------------------------+-------------------------------------------+----+\n",
      "only showing top 20 rows\n",
      "\n"
     ]
    }
   ],
   "source": [
    "# Define a regular expression to extract the year\n",
    "year_pattern = r\"\\((\\d{4})\\)\"\n",
    "\n",
    "# Extract the year from the 'title' column\n",
    "df_moviesclean = df_moviesclean.withColumn(\"year\", regexp_extract(df_moviesclean[\"title\"], year_pattern, 1))\n",
    "\n",
    "# Split the 'title' column into 'title' and 'year' columns\n",
    "df_moviesclean = df_moviesclean.withColumn(\"title\", regexp_extract(df_moviesclean[\"title\"], \"^(.*?)\\s\\(\\d{4}\\)\", 1))\n",
    "\n",
    "# Show the updated DataFrame\n",
    "df_moviesclean.show(truncate=False)"
   ]
  },
  {
   "cell_type": "code",
   "execution_count": 15,
   "id": "a707fabf-6e86-48ab-a498-1b98d16fe98f",
   "metadata": {},
   "outputs": [
    {
     "name": "stderr",
     "output_type": "stream",
     "text": [
      "[Stage 29:>                                                         (0 + 1) / 1]\r"
     ]
    },
    {
     "name": "stdout",
     "output_type": "stream",
     "text": [
      "+-------+------------------------------+----+---------+---------+--------+-------+--------+-------+-------+-------+-------+--------+\n",
      "|movieId|title                         |year|genre_1  |genre_2  |genre_3 |genre_4|genre_5 |genre_6|genre_7|genre_8|genre_9|genre_10|\n",
      "+-------+------------------------------+----+---------+---------+--------+-------+--------+-------+-------+-------+-------+--------+\n",
      "|1      |Toy Story                     |1995|Adventure|Animation|Children|Comedy |Fantasy |NULL   |NULL   |NULL   |NULL   |NULL    |\n",
      "|2      |Jumanji                       |1995|Adventure|Children |Fantasy |NULL   |NULL    |NULL   |NULL   |NULL   |NULL   |NULL    |\n",
      "|3      |Grumpier Old Men              |1995|Comedy   |Romance  |NULL    |NULL   |NULL    |NULL   |NULL   |NULL   |NULL   |NULL    |\n",
      "|4      |Waiting to Exhale             |1995|Comedy   |Drama    |Romance |NULL   |NULL    |NULL   |NULL   |NULL   |NULL   |NULL    |\n",
      "|5      |Father of the Bride Part II   |1995|Comedy   |NULL     |NULL    |NULL   |NULL    |NULL   |NULL   |NULL   |NULL   |NULL    |\n",
      "|6      |Heat                          |1995|Action   |Crime    |Thriller|NULL   |NULL    |NULL   |NULL   |NULL   |NULL   |NULL    |\n",
      "|7      |Sabrina                       |1995|Comedy   |Romance  |NULL    |NULL   |NULL    |NULL   |NULL   |NULL   |NULL   |NULL    |\n",
      "|8      |Tom and Huck                  |1995|Adventure|Children |NULL    |NULL   |NULL    |NULL   |NULL   |NULL   |NULL   |NULL    |\n",
      "|9      |Sudden Death                  |1995|Action   |NULL     |NULL    |NULL   |NULL    |NULL   |NULL   |NULL   |NULL   |NULL    |\n",
      "|10     |GoldenEye                     |1995|Action   |Adventure|Thriller|NULL   |NULL    |NULL   |NULL   |NULL   |NULL   |NULL    |\n",
      "|11     |American President, The       |1995|Comedy   |Drama    |Romance |NULL   |NULL    |NULL   |NULL   |NULL   |NULL   |NULL    |\n",
      "|12     |Dracula: Dead and Loving It   |1995|Comedy   |Horror   |NULL    |NULL   |NULL    |NULL   |NULL   |NULL   |NULL   |NULL    |\n",
      "|13     |Balto                         |1995|Adventure|Animation|Children|NULL   |NULL    |NULL   |NULL   |NULL   |NULL   |NULL    |\n",
      "|14     |Nixon                         |1995|Drama    |NULL     |NULL    |NULL   |NULL    |NULL   |NULL   |NULL   |NULL   |NULL    |\n",
      "|15     |Cutthroat Island              |1995|Action   |Adventure|Romance |NULL   |NULL    |NULL   |NULL   |NULL   |NULL   |NULL    |\n",
      "|16     |Casino                        |1995|Crime    |Drama    |NULL    |NULL   |NULL    |NULL   |NULL   |NULL   |NULL   |NULL    |\n",
      "|17     |Sense and Sensibility         |1995|Drama    |Romance  |NULL    |NULL   |NULL    |NULL   |NULL   |NULL   |NULL   |NULL    |\n",
      "|18     |Four Rooms                    |1995|Comedy   |NULL     |NULL    |NULL   |NULL    |NULL   |NULL   |NULL   |NULL   |NULL    |\n",
      "|19     |Ace Ventura: When Nature Calls|1995|Comedy   |NULL     |NULL    |NULL   |NULL    |NULL   |NULL   |NULL   |NULL   |NULL    |\n",
      "|20     |Money Train                   |1995|Action   |Comedy   |Crime   |Drama  |Thriller|NULL   |NULL   |NULL   |NULL   |NULL    |\n",
      "+-------+------------------------------+----+---------+---------+--------+-------+--------+-------+-------+-------+-------+--------+\n",
      "only showing top 20 rows\n",
      "\n"
     ]
    },
    {
     "name": "stderr",
     "output_type": "stream",
     "text": [
      "                                                                                \r"
     ]
    }
   ],
   "source": [
    "# Tách cột genres thành nhiều cột\n",
    "max_genres = 10  # Số lượng cột genres tối đa bạn muốn tạo\n",
    "\n",
    "# Thêm cột mới \"genres_array\" chứa mảng các thể loại\n",
    "df_moviesclean = df_moviesclean.withColumn(\"genres_array\", split(col(\"genres\"), \"\\\\|\"))\n",
    "\n",
    "# Tạo các cột genre_1, genre_2, ..., genre_max_genres\n",
    "for i in range(1, max_genres + 1):\n",
    "    df_moviesclean = df_moviesclean.withColumn(f\"genre_{i}\", when(col(\"genres_array\").getItem(i - 1).isNotNull(), col(\"genres_array\").getItem(i - 1)))\n",
    "\n",
    "# Hiển thị kết quả\n",
    "df_moviesclean = df_moviesclean.select([\"movieId\", \"title\", \"year\"] + [f\"genre_{i}\" for i in range(1, max_genres + 1)])\n",
    "df_moviesclean.show(truncate=False)"
   ]
  },
  {
   "cell_type": "code",
   "execution_count": 17,
   "id": "10fa0af5-7b19-443a-930e-c80a495cdb3f",
   "metadata": {},
   "outputs": [
    {
     "name": "stdout",
     "output_type": "stream",
     "text": [
      "+-------+------------------------------+----+---------+---------+--------+-------+--------+-------+-------+-------+-------+--------+\n",
      "|movieId|title                         |year|genre_1  |genre_2  |genre_3 |genre_4|genre_5 |genre_6|genre_7|genre_8|genre_9|genre_10|\n",
      "+-------+------------------------------+----+---------+---------+--------+-------+--------+-------+-------+-------+-------+--------+\n",
      "|1      |Toy Story                     |1995|Adventure|Animation|Children|Comedy |Fantasy |       |       |       |       |        |\n",
      "|2      |Jumanji                       |1995|Adventure|Children |Fantasy |       |        |       |       |       |       |        |\n",
      "|3      |Grumpier Old Men              |1995|Comedy   |Romance  |        |       |        |       |       |       |       |        |\n",
      "|4      |Waiting to Exhale             |1995|Comedy   |Drama    |Romance |       |        |       |       |       |       |        |\n",
      "|5      |Father of the Bride Part II   |1995|Comedy   |         |        |       |        |       |       |       |       |        |\n",
      "|6      |Heat                          |1995|Action   |Crime    |Thriller|       |        |       |       |       |       |        |\n",
      "|7      |Sabrina                       |1995|Comedy   |Romance  |        |       |        |       |       |       |       |        |\n",
      "|8      |Tom and Huck                  |1995|Adventure|Children |        |       |        |       |       |       |       |        |\n",
      "|9      |Sudden Death                  |1995|Action   |         |        |       |        |       |       |       |       |        |\n",
      "|10     |GoldenEye                     |1995|Action   |Adventure|Thriller|       |        |       |       |       |       |        |\n",
      "|11     |American President, The       |1995|Comedy   |Drama    |Romance |       |        |       |       |       |       |        |\n",
      "|12     |Dracula: Dead and Loving It   |1995|Comedy   |Horror   |        |       |        |       |       |       |       |        |\n",
      "|13     |Balto                         |1995|Adventure|Animation|Children|       |        |       |       |       |       |        |\n",
      "|14     |Nixon                         |1995|Drama    |         |        |       |        |       |       |       |       |        |\n",
      "|15     |Cutthroat Island              |1995|Action   |Adventure|Romance |       |        |       |       |       |       |        |\n",
      "|16     |Casino                        |1995|Crime    |Drama    |        |       |        |       |       |       |       |        |\n",
      "|17     |Sense and Sensibility         |1995|Drama    |Romance  |        |       |        |       |       |       |       |        |\n",
      "|18     |Four Rooms                    |1995|Comedy   |         |        |       |        |       |       |       |       |        |\n",
      "|19     |Ace Ventura: When Nature Calls|1995|Comedy   |         |        |       |        |       |       |       |       |        |\n",
      "|20     |Money Train                   |1995|Action   |Comedy   |Crime   |Drama  |Thriller|       |       |       |       |        |\n",
      "+-------+------------------------------+----+---------+---------+--------+-------+--------+-------+-------+-------+-------+--------+\n",
      "only showing top 20 rows\n",
      "\n"
     ]
    }
   ],
   "source": [
    "# Thay thế giá trị null bằng chuỗi trống\n",
    "df_moviesclean = df_moviesclean.na.fill(\"\")\n",
    "\n",
    "# Hiển thị kết quả\n",
    "df_moviesclean.show(truncate=False)"
   ]
  },
  {
   "cell_type": "code",
   "execution_count": 18,
   "id": "b8cc5bf6-6f43-44dc-8421-09ad7117230c",
   "metadata": {},
   "outputs": [
    {
     "name": "stderr",
     "output_type": "stream",
     "text": [
      "[Stage 39:>                                                         (0 + 1) / 1]\r"
     ]
    },
    {
     "name": "stdout",
     "output_type": "stream",
     "text": [
      "+------+-------+------+----------+\n",
      "|userId|movieId|rating| timestamp|\n",
      "+------+-------+------+----------+\n",
      "|     1|   1580|   3.0| 964981125|\n",
      "|     1|   2366|   4.0| 964982462|\n",
      "|     4|   3175|   1.0| 964538930|\n",
      "|    10|   1088|   3.0|1455619275|\n",
      "|    18|  32460|   3.5|1492805550|\n",
      "|    18|  44022|   3.5|1455749359|\n",
      "|    18|  96488|   4.0|1515532582|\n",
      "|    19|   1238|   3.0| 965705784|\n",
      "|    19|   1342|   2.0| 965704952|\n",
      "|    19|   1591|   2.0| 965704079|\n",
      "|    19|   1645|   2.0| 965711014|\n",
      "|    20|   4519|   3.5|1054038247|\n",
      "|    27|   2142|   3.0| 962685569|\n",
      "|    32|    471|   3.0| 856737165|\n",
      "|    34|   3997|   2.0|1162050228|\n",
      "|    44|    833|   2.0| 869252237|\n",
      "|    51|   3918|   5.0|1230931003|\n",
      "|    64|   7982|   4.5|1161530147|\n",
      "|    70|   1959|   4.5|1355184760|\n",
      "|    73|  68135|   3.5|1464198141|\n",
      "+------+-------+------+----------+\n",
      "only showing top 20 rows\n",
      "\n"
     ]
    },
    {
     "name": "stderr",
     "output_type": "stream",
     "text": [
      "                                                                                \r"
     ]
    }
   ],
   "source": [
    "df_ratingsclean.show()"
   ]
  },
  {
   "cell_type": "code",
   "execution_count": 19,
   "id": "777eec92-2610-497d-a495-6d50ffb0199f",
   "metadata": {},
   "outputs": [
    {
     "name": "stdout",
     "output_type": "stream",
     "text": [
      "+-------+-------+------+\n",
      "|movieId| imdbId|tmdbId|\n",
      "+-------+-------+------+\n",
      "|   1580| 119654|   607|\n",
      "|   2366|  24216|   244|\n",
      "|   3175| 177789|   926|\n",
      "|   1088|  92890|    88|\n",
      "|  32460| 119472|   158|\n",
      "|  44022| 438097|   950|\n",
      "|  96488|2125608| 84334|\n",
      "|   1238|  85859| 11235|\n",
      "|   1342| 103919|  9529|\n",
      "|   1591| 120177| 10336|\n",
      "|   1645| 118971|  1813|\n",
      "|   4519|  95489| 12144|\n",
      "|   2142| 101329| 10380|\n",
      "|    471| 110074| 11934|\n",
      "|   3997| 190374| 11849|\n",
      "|    833| 116531|  9308|\n",
      "|   3918|  95294|  9064|\n",
      "|   7982| 365376|  4552|\n",
      "|   1959|  89755|   606|\n",
      "|  68135| 974661| 16996|\n",
      "+-------+-------+------+\n",
      "only showing top 20 rows\n",
      "\n"
     ]
    }
   ],
   "source": [
    "df_linksclean.show()"
   ]
  },
  {
   "cell_type": "code",
   "execution_count": 28,
   "id": "99a09efa-ff92-4edc-9fd1-e249dcb0e7de",
   "metadata": {},
   "outputs": [],
   "source": [
    "# Chia ngẫu nhiên dữ liệu trong DataFrame 'ratings_df' thành hai phần: training và validation\n",
    "# Tỷ lệ chia là 80% cho training và 20% cho validation\n",
    "training_df, validation_df = df_ratings.randomSplit([.8, .2])"
   ]
  },
  {
   "cell_type": "code",
   "execution_count": 29,
   "id": "6e065f80-3d37-40f3-b005-15ea1f4bd72d",
   "metadata": {},
   "outputs": [],
   "source": [
    "# Số vòng lặp (iterations) cho thuật toán huấn luyện mô hình\n",
    "iterations = 10\n",
    "\n",
    "# Tham số regularization (chống quá mức) được sử dụng để kiểm soát độ phức tạp của mô hình và tránh overfitting\n",
    "regularization_parameter = 0.1\n",
    "\n",
    "# Rank là một tham số quan trọng liên quan đến kích thước ẩn của mô hình, thường được sử dụng trong các mô hình độ phức tạp cao như mô hình hệ thống gợi ý (recommendation systems)\n",
    "rank = 4\n",
    "\n",
    "# Một danh sách (errors) được sử dụng để lưu trữ các giá trị lỗi trong quá trình huấn luyện mô hình\n",
    "errors = []\n",
    "\n",
    "# Biến err được sử dụng để lưu trữ giá trị lỗi tạm thời trong mỗi vòng lặp\n",
    "err = 0"
   ]
  },
  {
   "cell_type": "code",
   "execution_count": 30,
   "id": "9cb17fd6-02df-43a6-9974-ef89cbfcd39c",
   "metadata": {},
   "outputs": [
    {
     "name": "stderr",
     "output_type": "stream",
     "text": [
      "                                                                                \r"
     ]
    },
    {
     "name": "stdout",
     "output_type": "stream",
     "text": [
      "Root-mean-square error = 0.8775329117435193\n"
     ]
    }
   ],
   "source": [
    "# Xây dựng mô hình ALS (Alternating Least Squares) với các tham số đã được đặt trước\n",
    "als = ALS(maxIter=iterations, regParam=regularization_parameter, rank=4, userCol=\"userId\", itemCol=\"movieId\", ratingCol=\"rating\")\n",
    "\n",
    "# Huấn luyện mô hình trên tập dữ liệu huấn luyện (training_df)\n",
    "model = als.fit(training_df)\n",
    "\n",
    "# Tạo dự đoán trên tập dữ liệu validation_df sử dụng mô hình đã huấn luyện\n",
    "predictions = model.transform(validation_df)\n",
    "\n",
    "# Loại bỏ các dự đoán có giá trị NaN (không phù hợp)\n",
    "new_predictions = predictions.filter(col('prediction') != np.nan)\n",
    "\n",
    "# Sử dụng đánh giá viên (evaluator) để đánh giá chất lượng dự đoán bằng cách tính Root Mean Square Error (RMSE)\n",
    "evaluator = RegressionEvaluator(metricName=\"rmse\", labelCol=\"rating\", predictionCol=\"prediction\")\n",
    "rmse = evaluator.evaluate(new_predictions)\n",
    "\n",
    "# In ra giá trị RMSE, một độ đo đánh giá chất lượng của mô hình hệ thống gợi ý\n",
    "print(\"Root-mean-square error = \" + str(rmse))\n"
   ]
  },
  {
   "cell_type": "code",
   "execution_count": 31,
   "id": "b9f66742-a9fc-4166-80bd-ae88e48c2f9c",
   "metadata": {},
   "outputs": [
    {
     "name": "stderr",
     "output_type": "stream",
     "text": [
      "                                                                                \r"
     ]
    },
    {
     "data": {
      "text/html": [
       "<div>\n",
       "<style scoped>\n",
       "    .dataframe tbody tr th:only-of-type {\n",
       "        vertical-align: middle;\n",
       "    }\n",
       "\n",
       "    .dataframe tbody tr th {\n",
       "        vertical-align: top;\n",
       "    }\n",
       "\n",
       "    .dataframe thead th {\n",
       "        text-align: right;\n",
       "    }\n",
       "</style>\n",
       "<table border=\"1\" class=\"dataframe\">\n",
       "  <thead>\n",
       "    <tr style=\"text-align: right;\">\n",
       "      <th></th>\n",
       "      <th>userId</th>\n",
       "      <th>movieId</th>\n",
       "      <th>rating</th>\n",
       "      <th>timestamp</th>\n",
       "      <th>prediction</th>\n",
       "    </tr>\n",
       "  </thead>\n",
       "  <tbody>\n",
       "    <tr>\n",
       "      <th>0</th>\n",
       "      <td>1</td>\n",
       "      <td>6</td>\n",
       "      <td>4.0</td>\n",
       "      <td>964982224</td>\n",
       "      <td>4.730847</td>\n",
       "    </tr>\n",
       "    <tr>\n",
       "      <th>1</th>\n",
       "      <td>1</td>\n",
       "      <td>50</td>\n",
       "      <td>5.0</td>\n",
       "      <td>964982931</td>\n",
       "      <td>5.108908</td>\n",
       "    </tr>\n",
       "    <tr>\n",
       "      <th>2</th>\n",
       "      <td>1</td>\n",
       "      <td>101</td>\n",
       "      <td>5.0</td>\n",
       "      <td>964980868</td>\n",
       "      <td>4.622073</td>\n",
       "    </tr>\n",
       "    <tr>\n",
       "      <th>3</th>\n",
       "      <td>1</td>\n",
       "      <td>216</td>\n",
       "      <td>5.0</td>\n",
       "      <td>964981208</td>\n",
       "      <td>3.831419</td>\n",
       "    </tr>\n",
       "    <tr>\n",
       "      <th>4</th>\n",
       "      <td>1</td>\n",
       "      <td>223</td>\n",
       "      <td>3.0</td>\n",
       "      <td>964980985</td>\n",
       "      <td>4.631687</td>\n",
       "    </tr>\n",
       "    <tr>\n",
       "      <th>5</th>\n",
       "      <td>1</td>\n",
       "      <td>333</td>\n",
       "      <td>5.0</td>\n",
       "      <td>964981179</td>\n",
       "      <td>4.340956</td>\n",
       "    </tr>\n",
       "    <tr>\n",
       "      <th>6</th>\n",
       "      <td>1</td>\n",
       "      <td>356</td>\n",
       "      <td>4.0</td>\n",
       "      <td>964980962</td>\n",
       "      <td>5.011915</td>\n",
       "    </tr>\n",
       "    <tr>\n",
       "      <th>7</th>\n",
       "      <td>1</td>\n",
       "      <td>441</td>\n",
       "      <td>4.0</td>\n",
       "      <td>964980868</td>\n",
       "      <td>4.660748</td>\n",
       "    </tr>\n",
       "    <tr>\n",
       "      <th>8</th>\n",
       "      <td>1</td>\n",
       "      <td>457</td>\n",
       "      <td>5.0</td>\n",
       "      <td>964981909</td>\n",
       "      <td>4.838562</td>\n",
       "    </tr>\n",
       "    <tr>\n",
       "      <th>9</th>\n",
       "      <td>1</td>\n",
       "      <td>527</td>\n",
       "      <td>5.0</td>\n",
       "      <td>964984002</td>\n",
       "      <td>5.095624</td>\n",
       "    </tr>\n",
       "  </tbody>\n",
       "</table>\n",
       "</div>"
      ],
      "text/plain": [
       "   userId  movieId  rating  timestamp  prediction\n",
       "0       1        6     4.0  964982224    4.730847\n",
       "1       1       50     5.0  964982931    5.108908\n",
       "2       1      101     5.0  964980868    4.622073\n",
       "3       1      216     5.0  964981208    3.831419\n",
       "4       1      223     3.0  964980985    4.631687\n",
       "5       1      333     5.0  964981179    4.340956\n",
       "6       1      356     4.0  964980962    5.011915\n",
       "7       1      441     4.0  964980868    4.660748\n",
       "8       1      457     5.0  964981909    4.838562\n",
       "9       1      527     5.0  964984002    5.095624"
      ]
     },
     "execution_count": 31,
     "metadata": {},
     "output_type": "execute_result"
    }
   ],
   "source": [
    "predictions.limit(10).toPandas()"
   ]
  },
  {
   "cell_type": "code",
   "execution_count": 39,
   "id": "3e84cf4c-5dd8-4147-bae1-8f206dd1c3a7",
   "metadata": {},
   "outputs": [
    {
     "name": "stderr",
     "output_type": "stream",
     "text": [
      "                                                                                \r"
     ]
    },
    {
     "data": {
      "text/html": [
       "<div>\n",
       "<style scoped>\n",
       "    .dataframe tbody tr th:only-of-type {\n",
       "        vertical-align: middle;\n",
       "    }\n",
       "\n",
       "    .dataframe tbody tr th {\n",
       "        vertical-align: top;\n",
       "    }\n",
       "\n",
       "    .dataframe thead th {\n",
       "        text-align: right;\n",
       "    }\n",
       "</style>\n",
       "<table border=\"1\" class=\"dataframe\">\n",
       "  <thead>\n",
       "    <tr style=\"text-align: right;\">\n",
       "      <th></th>\n",
       "      <th>userId</th>\n",
       "      <th>title</th>\n",
       "      <th>year</th>\n",
       "      <th>genre_1</th>\n",
       "      <th>genre_2</th>\n",
       "      <th>genre_3</th>\n",
       "      <th>genre_4</th>\n",
       "      <th>genre_5</th>\n",
       "      <th>genre_6</th>\n",
       "      <th>genre_7</th>\n",
       "      <th>genre_8</th>\n",
       "      <th>genre_9</th>\n",
       "      <th>genre_10</th>\n",
       "      <th>prediction</th>\n",
       "    </tr>\n",
       "  </thead>\n",
       "  <tbody>\n",
       "    <tr>\n",
       "      <th>0</th>\n",
       "      <td>399</td>\n",
       "      <td>Toy Story</td>\n",
       "      <td>1995</td>\n",
       "      <td>Adventure</td>\n",
       "      <td>Animation</td>\n",
       "      <td>Children</td>\n",
       "      <td>Comedy</td>\n",
       "      <td>Fantasy</td>\n",
       "      <td></td>\n",
       "      <td></td>\n",
       "      <td></td>\n",
       "      <td></td>\n",
       "      <td></td>\n",
       "      <td>3.595572</td>\n",
       "    </tr>\n",
       "    <tr>\n",
       "      <th>1</th>\n",
       "      <td>275</td>\n",
       "      <td>Toy Story</td>\n",
       "      <td>1995</td>\n",
       "      <td>Adventure</td>\n",
       "      <td>Animation</td>\n",
       "      <td>Children</td>\n",
       "      <td>Comedy</td>\n",
       "      <td>Fantasy</td>\n",
       "      <td></td>\n",
       "      <td></td>\n",
       "      <td></td>\n",
       "      <td></td>\n",
       "      <td></td>\n",
       "      <td>4.188602</td>\n",
       "    </tr>\n",
       "    <tr>\n",
       "      <th>2</th>\n",
       "      <td>186</td>\n",
       "      <td>Toy Story</td>\n",
       "      <td>1995</td>\n",
       "      <td>Adventure</td>\n",
       "      <td>Animation</td>\n",
       "      <td>Children</td>\n",
       "      <td>Comedy</td>\n",
       "      <td>Fantasy</td>\n",
       "      <td></td>\n",
       "      <td></td>\n",
       "      <td></td>\n",
       "      <td></td>\n",
       "      <td></td>\n",
       "      <td>4.416960</td>\n",
       "    </tr>\n",
       "    <tr>\n",
       "      <th>3</th>\n",
       "      <td>46</td>\n",
       "      <td>Toy Story</td>\n",
       "      <td>1995</td>\n",
       "      <td>Adventure</td>\n",
       "      <td>Animation</td>\n",
       "      <td>Children</td>\n",
       "      <td>Comedy</td>\n",
       "      <td>Fantasy</td>\n",
       "      <td></td>\n",
       "      <td></td>\n",
       "      <td></td>\n",
       "      <td></td>\n",
       "      <td></td>\n",
       "      <td>4.388863</td>\n",
       "    </tr>\n",
       "    <tr>\n",
       "      <th>4</th>\n",
       "      <td>573</td>\n",
       "      <td>Toy Story</td>\n",
       "      <td>1995</td>\n",
       "      <td>Adventure</td>\n",
       "      <td>Animation</td>\n",
       "      <td>Children</td>\n",
       "      <td>Comedy</td>\n",
       "      <td>Fantasy</td>\n",
       "      <td></td>\n",
       "      <td></td>\n",
       "      <td></td>\n",
       "      <td></td>\n",
       "      <td></td>\n",
       "      <td>4.208315</td>\n",
       "    </tr>\n",
       "  </tbody>\n",
       "</table>\n",
       "</div>"
      ],
      "text/plain": [
       "   userId      title  year    genre_1    genre_2   genre_3 genre_4  genre_5  \\\n",
       "0     399  Toy Story  1995  Adventure  Animation  Children  Comedy  Fantasy   \n",
       "1     275  Toy Story  1995  Adventure  Animation  Children  Comedy  Fantasy   \n",
       "2     186  Toy Story  1995  Adventure  Animation  Children  Comedy  Fantasy   \n",
       "3      46  Toy Story  1995  Adventure  Animation  Children  Comedy  Fantasy   \n",
       "4     573  Toy Story  1995  Adventure  Animation  Children  Comedy  Fantasy   \n",
       "\n",
       "  genre_6 genre_7 genre_8 genre_9 genre_10  prediction  \n",
       "0                                             3.595572  \n",
       "1                                             4.188602  \n",
       "2                                             4.416960  \n",
       "3                                             4.388863  \n",
       "4                                             4.208315  "
      ]
     },
     "execution_count": 39,
     "metadata": {},
     "output_type": "execute_result"
    }
   ],
   "source": [
    "predictions.join(df_moviesclean, \"movieId\").select(\"userId\", \"title\", \"year\", \"genre_1\", \"genre_2\", \"genre_3\", \"genre_4\", \"genre_5\", \"genre_6\", \"genre_7\", \"genre_8\", \"genre_9\", \"genre_10\", \"prediction\").limit(5).toPandas()"
   ]
  },
  {
   "cell_type": "code",
   "execution_count": 40,
   "id": "b3c55286-ab8c-489f-a7e2-17e909cd3c6f",
   "metadata": {},
   "outputs": [
    {
     "name": "stderr",
     "output_type": "stream",
     "text": [
      "                                                                                \r"
     ]
    },
    {
     "name": "stdout",
     "output_type": "stream",
     "text": [
      "+------+--------------------+----+-------+---------+--------+-------+-------+-------+-------+-------+-------+--------+------+----------+\n",
      "|userId|               title|year|genre_1|  genre_2| genre_3|genre_4|genre_5|genre_6|genre_7|genre_8|genre_9|genre_10|tmdbId|prediction|\n",
      "+------+--------------------+----+-------+---------+--------+-------+-------+-------+-------+-------+-------+--------+------+----------+\n",
      "|   599|Hudsucker Proxy, The|1994| Comedy|         |        |       |       |       |       |       |       |        | 11934| 2.8471441|\n",
      "|   599|       Dirty Dancing|1987|  Drama|  Musical| Romance|       |       |       |       |       |       |        |    88|  2.409865|\n",
      "|   599|The Devil's Advocate|1997|  Drama|  Mystery|Thriller|       |       |       |       |       |       |        |  1813| 2.7491834|\n",
      "|   599|           King Kong|1933| Action|Adventure| Fantasy| Horror|       |       |       |       |       |        |   244| 2.9146996|\n",
      "|   599|  Dungeons & Dragons|2000| Action|Adventure|  Comedy|Fantasy|       |       |       |       |       |        | 11849| 1.6435211|\n",
      "+------+--------------------+----+-------+---------+--------+-------+-------+-------+-------+-------+-------+--------+------+----------+\n",
      "only showing top 5 rows\n",
      "\n"
     ]
    }
   ],
   "source": [
    "for_one_user = predictions.filter(col(\"userId\") == 599).join(df_moviesclean, \"movieId\").join(df_linksclean, \"movieId\").select(\"userId\", \"title\", \"year\", \"genre_1\", \"genre_2\", \"genre_3\", \"genre_4\", \"genre_5\", \"genre_6\", \"genre_7\", \"genre_8\", \"genre_9\", \"genre_10\", \"tmdbId\", \"prediction\")\n",
    "for_one_user.show(5)"
   ]
  },
  {
   "cell_type": "code",
   "execution_count": 41,
   "id": "60969233-c767-4d62-a1e2-4b4aef8e2557",
   "metadata": {},
   "outputs": [
    {
     "name": "stderr",
     "output_type": "stream",
     "text": [
      "                                                                                \r"
     ]
    },
    {
     "name": "stdout",
     "output_type": "stream",
     "text": [
      "Hudsucker Proxy, The\n",
      "Dirty Dancing\n"
     ]
    }
   ],
   "source": [
    "import webbrowser\n",
    "\n",
    "link = \"https://www.themoviedb.org/movie/\"\n",
    "\n",
    "for movie in for_one_user.take(2):\n",
    "    movieURL = link + str(movie.tmdbId)\n",
    "    print(movie.title)\n",
    "    webbrowser.open(movieURL)"
   ]
  },
  {
   "cell_type": "code",
   "execution_count": 55,
   "id": "ceddba8b-7de6-4f93-a41a-bd8789c32517",
   "metadata": {},
   "outputs": [
    {
     "name": "stderr",
     "output_type": "stream",
     "text": [
      "                                                                                \r"
     ]
    },
    {
     "name": "stdout",
     "output_type": "stream",
     "text": [
      "+------+-----------------+----+---------+---------+--------+-------+-------+-------+-------+-------+-------+--------+------+----------+\n",
      "|userId|            title|year|  genre_1|  genre_2| genre_3|genre_4|genre_5|genre_6|genre_7|genre_8|genre_9|genre_10|tmdbId|prediction|\n",
      "+------+-----------------+----+---------+---------+--------+-------+-------+-------+-------+-------+-------+--------+------+----------+\n",
      "|    10|          Aladdin|1992|Adventure|Animation|Children| Comedy|Musical|       |       |       |       |        |   812| 3.2151449|\n",
      "|    10|      Matrix, The|1999|   Action|   Sci-Fi|Thriller|       |       |       |       |       |       |        |   603| 3.2721682|\n",
      "|    10|  American Beauty|1999|    Drama|  Romance|        |       |       |       |       |       |       |        |    14| 2.1927829|\n",
      "|    10|      Bring It On|2000|   Comedy|         |        |       |       |       |       |       |       |        |  1588| 2.8180373|\n",
      "|    10|Beautiful Mind, A|2001|    Drama|  Romance|        |       |       |       |       |       |       |        |   453|  3.308095|\n",
      "+------+-----------------+----+---------+---------+--------+-------+-------+-------+-------+-------+-------+--------+------+----------+\n",
      "only showing top 5 rows\n",
      "\n"
     ]
    }
   ],
   "source": [
    "for_one_user1 = predictions.filter(col(\"userId\") == 10).join(df_moviesclean, \"movieId\").join(df_linksclean, \"movieId\").select(\"userId\", \"title\", \"year\", \"genre_1\", \"genre_2\", \"genre_3\", \"genre_4\", \"genre_5\", \"genre_6\", \"genre_7\", \"genre_8\", \"genre_9\", \"genre_10\", \"tmdbId\", \"prediction\")\n",
    "for_one_user1.show(5)"
   ]
  },
  {
   "cell_type": "code",
   "execution_count": 56,
   "id": "90a46900-247f-4cce-bc02-2643e8445521",
   "metadata": {},
   "outputs": [
    {
     "name": "stderr",
     "output_type": "stream",
     "text": [
      "                                                                                \r"
     ]
    },
    {
     "name": "stdout",
     "output_type": "stream",
     "text": [
      "Aladdin\n",
      "Julie & Julia\n"
     ]
    }
   ],
   "source": [
    "import webbrowser\n",
    "\n",
    "link = \"https://www.themoviedb.org/movie/\"\n",
    "\n",
    "for movie in for_one_user1.take(2):\n",
    "    movieURL = link + str(movie.tmdbId)\n",
    "    print(movie.title)\n",
    "    webbrowser.open(movieURL)"
   ]
  },
  {
   "cell_type": "code",
   "execution_count": 42,
   "id": "63218c58-4d2c-4da5-a59d-1c9238fa49ad",
   "metadata": {},
   "outputs": [],
   "source": [
    "# Tạo ra 5 gợi ý xếp hạng cho tất cả người dùng dựa trên mô hình đã huấn luyện\n",
    "userRecomments = model.recommendForAllUsers(5)\n",
    "\n",
    "# Tạo ra 5 gợi ý xếp hạng cho tất cả sản phẩm dựa trên mô hình đã huấn luyện\n",
    "movieRecomments = model.recommendForAllItems(5)"
   ]
  },
  {
   "cell_type": "code",
   "execution_count": 43,
   "id": "d0b722eb-c4af-416f-9440-516fa7144662",
   "metadata": {},
   "outputs": [
    {
     "name": "stdout",
     "output_type": "stream",
     "text": [
      "root\n",
      " |-- userId: integer (nullable = false)\n",
      " |-- recommendations: array (nullable = true)\n",
      " |    |-- element: struct (containsNull = true)\n",
      " |    |    |-- movieId: integer (nullable = true)\n",
      " |    |    |-- rating: float (nullable = true)\n",
      "\n"
     ]
    }
   ],
   "source": [
    "userRecomments.printSchema()"
   ]
  },
  {
   "cell_type": "code",
   "execution_count": 44,
   "id": "887eb974-4f94-456a-8741-fc394b251768",
   "metadata": {},
   "outputs": [
    {
     "name": "stderr",
     "output_type": "stream",
     "text": [
      "[Stage 884:=================================================>    (92 + 2) / 100]\r"
     ]
    },
    {
     "name": "stdout",
     "output_type": "stream",
     "text": [
      "+------+----------------------------------+\n",
      "|userId|movieId                           |\n",
      "+------+----------------------------------+\n",
      "|1     |[6818, 6201, 4495, 33649, 58301]  |\n",
      "|2     |[51931, 60943, 59018, 62293, 7842]|\n",
      "|3     |[213, 7982, 4794, 8199, 1904]     |\n",
      "|4     |[158783, 89118, 25850, 4289, 7579]|\n",
      "|5     |[6201, 4495, 6818, 58301, 132333] |\n",
      "|6     |[3567, 51931, 7842, 60943, 59018] |\n",
      "|7     |[6818, 40491, 8477, 148881, 5222] |\n",
      "|8     |[3567, 6201, 4495, 7815, 174053]  |\n",
      "|9     |[6818, 40491, 8477, 148881, 58301]|\n",
      "|10    |[90888, 69069, 7842, 3404, 51931] |\n",
      "+------+----------------------------------+\n",
      "only showing top 10 rows\n",
      "\n"
     ]
    },
    {
     "name": "stderr",
     "output_type": "stream",
     "text": [
      "                                                                                \r"
     ]
    }
   ],
   "source": [
    "userRecomments.select(\"userId\", \"recommendations.movieId\").show(10, False)"
   ]
  },
  {
   "cell_type": "code",
   "execution_count": 45,
   "id": "632fc1fc-a696-47d6-81a6-069e9d91fcc1",
   "metadata": {},
   "outputs": [
    {
     "name": "stderr",
     "output_type": "stream",
     "text": [
      "[Stage 933:====================================================> (98 + 2) / 100]\r"
     ]
    },
    {
     "name": "stdout",
     "output_type": "stream",
     "text": [
      "+-------+------------------------+\n",
      "|movieId|userId                  |\n",
      "+-------+------------------------+\n",
      "|1      |[53, 360, 543, 99, 12]  |\n",
      "|3      |[543, 43, 243, 544, 53] |\n",
      "|5      |[543, 43, 327, 544, 554]|\n",
      "|6      |[53, 360, 276, 236, 99] |\n",
      "|9      |[543, 327, 53, 243, 43] |\n",
      "|12     |[543, 327, 243, 337, 43]|\n",
      "|13     |[360, 53, 99, 12, 236]  |\n",
      "|15     |[543, 327, 243, 43, 544]|\n",
      "|16     |[53, 276, 258, 243, 171]|\n",
      "|17     |[543, 35, 224, 90, 546] |\n",
      "+-------+------------------------+\n",
      "only showing top 10 rows\n",
      "\n"
     ]
    },
    {
     "name": "stderr",
     "output_type": "stream",
     "text": [
      "                                                                                \r"
     ]
    }
   ],
   "source": [
    "movieRecomments.select(\"movieId\", \"recommendations.userId\").show(10, False)"
   ]
  },
  {
   "cell_type": "code",
   "execution_count": 46,
   "id": "c4e206b7-5857-41ef-bab0-54ff49dced0b",
   "metadata": {},
   "outputs": [
    {
     "name": "stdout",
     "output_type": "stream",
     "text": [
      "+------+\n",
      "|userId|\n",
      "+------+\n",
      "|   148|\n",
      "|   540|\n",
      "|    31|\n",
      "+------+\n",
      "\n"
     ]
    }
   ],
   "source": [
    "users = df_ratingsclean.select(\"userId\").distinct().limit(3)\n",
    "users.show()"
   ]
  },
  {
   "cell_type": "code",
   "execution_count": 47,
   "id": "2951e2ce-399d-448a-a900-2250e17cf115",
   "metadata": {},
   "outputs": [],
   "source": [
    "userSubsetRecs = model.recommendForUserSubset(users, 10)"
   ]
  },
  {
   "cell_type": "code",
   "execution_count": 48,
   "id": "bfdb1657-af3d-4d78-841a-33ebf6584170",
   "metadata": {},
   "outputs": [
    {
     "name": "stderr",
     "output_type": "stream",
     "text": [
      "[Stage 1002:================================================>    (91 + 2) / 100]\r"
     ]
    },
    {
     "name": "stdout",
     "output_type": "stream",
     "text": [
      "+------+--------------------+\n",
      "|userId|     recommendations|\n",
      "+------+--------------------+\n",
      "|   540|[{62293, 5.716651...|\n",
      "|    31|[{3567, 6.165907}...|\n",
      "|   148|[{62293, 5.116056...|\n",
      "+------+--------------------+\n",
      "\n"
     ]
    },
    {
     "name": "stderr",
     "output_type": "stream",
     "text": [
      "                                                                                \r"
     ]
    }
   ],
   "source": [
    "userSubsetRecs.show()"
   ]
  },
  {
   "cell_type": "code",
   "execution_count": 49,
   "id": "0d759d01-d866-439e-99d9-838bb368725f",
   "metadata": {},
   "outputs": [
    {
     "name": "stderr",
     "output_type": "stream",
     "text": [
      "[Stage 1063:===============================================>     (90 + 2) / 100]\r"
     ]
    },
    {
     "name": "stdout",
     "output_type": "stream",
     "text": [
      "+------+----------------------------------------------------------------------+\n",
      "|userId|movieId                                                               |\n",
      "+------+----------------------------------------------------------------------+\n",
      "|540   |[62293, 60943, 59018, 5075, 51931, 7842, 33649, 84847, 93988, 179135] |\n",
      "|31    |[3567, 7815, 6201, 4495, 51931, 174053, 2563, 60943, 59018, 8235]     |\n",
      "|148   |[62293, 60943, 59018, 33649, 5075, 84847, 93988, 6818, 179135, 138966]|\n",
      "+------+----------------------------------------------------------------------+\n",
      "\n"
     ]
    },
    {
     "name": "stderr",
     "output_type": "stream",
     "text": [
      "                                                                                \r"
     ]
    }
   ],
   "source": [
    "userSubsetRecs.select(\"userId\", \"recommendations.movieId\").show(10, False)"
   ]
  },
  {
   "cell_type": "code",
   "execution_count": 50,
   "id": "037cfab8-f7b4-4262-bc5b-81a110b50622",
   "metadata": {},
   "outputs": [
    {
     "name": "stderr",
     "output_type": "stream",
     "text": [
      "[Stage 1091:>                                                       (0 + 1) / 1]\r"
     ]
    },
    {
     "name": "stdout",
     "output_type": "stream",
     "text": [
      "+-------+\n",
      "|movieId|\n",
      "+-------+\n",
      "|   1580|\n",
      "|   2366|\n",
      "|   3175|\n",
      "+-------+\n",
      "\n"
     ]
    },
    {
     "name": "stderr",
     "output_type": "stream",
     "text": [
      "                                                                                \r"
     ]
    }
   ],
   "source": [
    "movies = df_ratingsclean.select(\"movieId\").distinct().limit(3)\n",
    "movies.show()"
   ]
  },
  {
   "cell_type": "code",
   "execution_count": 51,
   "id": "cb299113-7a2c-4904-9168-f0750fb44e07",
   "metadata": {},
   "outputs": [
    {
     "name": "stderr",
     "output_type": "stream",
     "text": [
      "[Stage 1125:===========================================>         (83 + 2) / 100]\r"
     ]
    },
    {
     "name": "stdout",
     "output_type": "stream",
     "text": [
      "+-------+------------------------------------------------+\n",
      "|movieId|userId                                          |\n",
      "+-------+------------------------------------------------+\n",
      "|1580   |[53, 543, 276, 452, 12, 371, 327, 578, 93, 25]  |\n",
      "|3175   |[53, 276, 371, 543, 452, 171, 93, 99, 122, 1]   |\n",
      "|2366   |[360, 138, 236, 20, 548, 99, 505, 191, 597, 251]|\n",
      "+-------+------------------------------------------------+\n",
      "\n"
     ]
    },
    {
     "name": "stderr",
     "output_type": "stream",
     "text": [
      "                                                                                \r"
     ]
    }
   ],
   "source": [
    "# Tạo ra 10 gợi ý xếp hạng người dùng cho tập hợp con sản phẩm đã được chỉ định (movies) dựa trên mô hình đã huấn luyện\n",
    "movieSubSetRecs = model.recommendForItemSubset(movies, 10)\n",
    "# Chọn các cột \"movieId\" và \"recommendations.userId\" từ DataFrame 'movieSubSetRecs'\n",
    "# Hiển thị 10 dòng đầu tiên của kết quả, trong đó \"recommendations.userId\" là danh sách các người dùng được gợi ý cho từng sản phẩm\n",
    "movieSubSetRecs.select(\"movieId\", \"recommendations.userId\").show(10, False)"
   ]
  },
  {
   "cell_type": "code",
   "execution_count": 52,
   "id": "f56e0c3b-cbbd-482d-b0ae-e4012a07ea6f",
   "metadata": {},
   "outputs": [],
   "source": [
    "# Tạo danh sách movie_ids và user_ids\n",
    "movie_ids = [1580, 3175, 2366, 1590]\n",
    "user_ids = [543, 543, 543, 543]\n",
    "\n",
    "# Tạo DataFrame mới 'new_user_preds' từ danh sách movie_ids và user_ids\n",
    "new_user_preds = sqlContext.createDataFrame(zip(movie_ids, user_ids), schema=[\"movieId\", \"userId\"])"
   ]
  },
  {
   "cell_type": "code",
   "execution_count": 54,
   "id": "ebeaecf9-c148-4f06-acc6-e8a6d192b220",
   "metadata": {},
   "outputs": [
    {
     "name": "stderr",
     "output_type": "stream",
     "text": [
      "                                                                                \r"
     ]
    },
    {
     "name": "stdout",
     "output_type": "stream",
     "text": [
      "+-------+------+----------+\n",
      "|movieId|userId|prediction|\n",
      "+-------+------+----------+\n",
      "|   1580|   543| 4.6188784|\n",
      "|   3175|   543| 4.5366387|\n",
      "|   2366|   543| 3.9088342|\n",
      "|   1590|   543| 2.5014122|\n",
      "+-------+------+----------+\n",
      "\n"
     ]
    }
   ],
   "source": [
    "# Sử dụng mô hình để tạo ra các dự đoán xếp hạng cho DataFrame 'new_user_preds'\n",
    "new_predictions = model.transform(new_user_preds)\n",
    "\n",
    "# Hiển thị kết quả\n",
    "new_predictions.show()"
   ]
  },
  {
   "cell_type": "code",
   "execution_count": null,
   "id": "720c6f2c-0769-4565-b6dc-ed107b3a78c7",
   "metadata": {},
   "outputs": [],
   "source": []
  }
 ],
 "metadata": {
  "kernelspec": {
   "display_name": "Python 3 (ipykernel)",
   "language": "python",
   "name": "python3"
  },
  "language_info": {
   "codemirror_mode": {
    "name": "ipython",
    "version": 3
   },
   "file_extension": ".py",
   "mimetype": "text/x-python",
   "name": "python",
   "nbconvert_exporter": "python",
   "pygments_lexer": "ipython3",
   "version": "3.10.12"
  }
 },
 "nbformat": 4,
 "nbformat_minor": 5
}
