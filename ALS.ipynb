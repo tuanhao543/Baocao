{
 "cells": [
  {
   "cell_type": "code",
   "execution_count": 1,
   "id": "650c220e-69a1-41f8-9c61-1599f55d8d47",
   "metadata": {},
   "outputs": [
    {
     "name": "stderr",
     "output_type": "stream",
     "text": [
      "/usr/lib/python3/dist-packages/scipy/__init__.py:146: UserWarning: A NumPy version >=1.17.3 and <1.25.0 is required for this version of SciPy (detected version 1.26.2\n",
      "  warnings.warn(f\"A NumPy version >={np_minversion} and <{np_maxversion}\"\n"
     ]
    }
   ],
   "source": [
    "from pyspark.sql import SparkSession\n",
    "\n",
    "from pyspark.sql import SQLContext\n",
    "\n",
    "from pyspark.ml.evaluation import RegressionEvaluator\n",
    "\n",
    "from pyspark.ml.recommendation import ALS\n",
    "\n",
    "from pyspark.sql.functions import udf, col, when, split, regexp_extract, sum\n",
    "\n",
    "import numpy as np\n",
    "\n",
    "from IPython.display import Image\n",
    "\n",
    "from IPython.display import display"
   ]
  },
  {
   "cell_type": "code",
   "execution_count": 2,
   "id": "bcdd7178-ece1-4b5c-a0ef-bd292104d202",
   "metadata": {},
   "outputs": [
    {
     "name": "stderr",
     "output_type": "stream",
     "text": [
      "23/11/22 11:36:50 WARN Utils: Your hostname, nhom6nth-virtual-machine resolves to a loopback address: 127.0.1.1; using 192.168.59.139 instead (on interface ens33)\n",
      "23/11/22 11:36:50 WARN Utils: Set SPARK_LOCAL_IP if you need to bind to another address\n",
      "Setting default log level to \"WARN\".\n",
      "To adjust logging level use sc.setLogLevel(newLevel). For SparkR, use setLogLevel(newLevel).\n",
      "23/11/22 11:36:51 WARN NativeCodeLoader: Unable to load native-hadoop library for your platform... using builtin-java classes where applicable\n"
     ]
    }
   ],
   "source": [
    "spark = SparkSession.builder.appName(\"ALS_Recommend\").getOrCreate()"
   ]
  },
  {
   "cell_type": "code",
   "execution_count": 3,
   "id": "ec41949d-c1df-4c40-8210-399afc9b8a4e",
   "metadata": {},
   "outputs": [
    {
     "name": "stderr",
     "output_type": "stream",
     "text": [
      "/usr/local/lib/python3.10/dist-packages/pyspark/sql/context.py:113: FutureWarning: Deprecated in 3.0.0. Use SparkSession.builder.getOrCreate() instead.\n",
      "  warnings.warn(\n"
     ]
    }
   ],
   "source": [
    "# Tạo một đối tượng SparkContext (sc) để quản lý các tác vụ trên Spark.\n",
    "sc = spark.sparkContext\n",
    "\n",
    "# Tạo một đối tượng SQLContext (sqlContext) để thực hiện các truy vấn SQL trên Spark DataFrame.\n",
    "sqlContext = SQLContext(sc)\n"
   ]
  },
  {
   "cell_type": "code",
   "execution_count": 4,
   "id": "d5407cfa-fc26-45fa-986e-c3430764b0eb",
   "metadata": {},
   "outputs": [
    {
     "name": "stderr",
     "output_type": "stream",
     "text": [
      "                                                                                \r"
     ]
    },
    {
     "name": "stdout",
     "output_type": "stream",
     "text": [
      "root\n",
      " |-- movieId: integer (nullable = true)\n",
      " |-- title: string (nullable = true)\n",
      " |-- genres: string (nullable = true)\n",
      "\n"
     ]
    }
   ],
   "source": [
    "df_movies = spark.read.csv('movies.csv', inferSchema=True, header=True) \n",
    "df_movies.printSchema()"
   ]
  },
  {
   "cell_type": "code",
   "execution_count": 5,
   "id": "aa5dddab-6db8-41d6-a14c-6e1a8d19a991",
   "metadata": {},
   "outputs": [
    {
     "name": "stdout",
     "output_type": "stream",
     "text": [
      "+-------+--------------------+--------------------+\n",
      "|movieId|               title|              genres|\n",
      "+-------+--------------------+--------------------+\n",
      "|      1|    Toy Story (1995)|Adventure|Animati...|\n",
      "|      2|      Jumanji (1995)|Adventure|Childre...|\n",
      "|      3|Grumpier Old Men ...|      Comedy|Romance|\n",
      "|      4|Waiting to Exhale...|Comedy|Drama|Romance|\n",
      "|      5|Father of the Bri...|              Comedy|\n",
      "|      6|         Heat (1995)|Action|Crime|Thri...|\n",
      "|      7|      Sabrina (1995)|      Comedy|Romance|\n",
      "|      8| Tom and Huck (1995)|  Adventure|Children|\n",
      "|      9| Sudden Death (1995)|              Action|\n",
      "|     10|    GoldenEye (1995)|Action|Adventure|...|\n",
      "|     11|American Presiden...|Comedy|Drama|Romance|\n",
      "|     12|Dracula: Dead and...|       Comedy|Horror|\n",
      "|     13|        Balto (1995)|Adventure|Animati...|\n",
      "|     14|        Nixon (1995)|               Drama|\n",
      "|     15|Cutthroat Island ...|Action|Adventure|...|\n",
      "|     16|       Casino (1995)|         Crime|Drama|\n",
      "|     17|Sense and Sensibi...|       Drama|Romance|\n",
      "|     18|   Four Rooms (1995)|              Comedy|\n",
      "|     19|Ace Ventura: When...|              Comedy|\n",
      "|     20|  Money Train (1995)|Action|Comedy|Cri...|\n",
      "+-------+--------------------+--------------------+\n",
      "only showing top 20 rows\n",
      "\n"
     ]
    }
   ],
   "source": [
    "df_movies.show()"
   ]
  },
  {
   "cell_type": "code",
   "execution_count": 6,
   "id": "ee9975fd-be18-4d30-ba07-13ae029219d2",
   "metadata": {},
   "outputs": [
    {
     "name": "stdout",
     "output_type": "stream",
     "text": [
      "root\n",
      " |-- userId: integer (nullable = true)\n",
      " |-- movieId: integer (nullable = true)\n",
      " |-- rating: double (nullable = true)\n",
      " |-- timestamp: integer (nullable = true)\n",
      "\n"
     ]
    },
    {
     "name": "stderr",
     "output_type": "stream",
     "text": [
      "                                                                                \r"
     ]
    }
   ],
   "source": [
    "df_ratings = spark.read.csv('ratings.csv', inferSchema=True, header=True) \n",
    "df_ratings.printSchema()"
   ]
  },
  {
   "cell_type": "code",
   "execution_count": 7,
   "id": "85680bde-448f-4290-9f61-8e9975dea8f2",
   "metadata": {},
   "outputs": [
    {
     "name": "stdout",
     "output_type": "stream",
     "text": [
      "+------+-------+------+---------+\n",
      "|userId|movieId|rating|timestamp|\n",
      "+------+-------+------+---------+\n",
      "|     1|      1|   4.0|964982703|\n",
      "|     1|      3|   4.0|964981247|\n",
      "|     1|      6|   4.0|964982224|\n",
      "|     1|     47|   5.0|964983815|\n",
      "|     1|     50|   5.0|964982931|\n",
      "|     1|     70|   3.0|964982400|\n",
      "|     1|    101|   5.0|964980868|\n",
      "|     1|    110|   4.0|964982176|\n",
      "|     1|    151|   5.0|964984041|\n",
      "|     1|    157|   5.0|964984100|\n",
      "|     1|    163|   5.0|964983650|\n",
      "|     1|    216|   5.0|964981208|\n",
      "|     1|    223|   3.0|964980985|\n",
      "|     1|    231|   5.0|964981179|\n",
      "|     1|    235|   4.0|964980908|\n",
      "|     1|    260|   5.0|964981680|\n",
      "|     1|    296|   3.0|964982967|\n",
      "|     1|    316|   3.0|964982310|\n",
      "|     1|    333|   5.0|964981179|\n",
      "|     1|    349|   4.0|964982563|\n",
      "+------+-------+------+---------+\n",
      "only showing top 20 rows\n",
      "\n"
     ]
    }
   ],
   "source": [
    "df_ratings.show()"
   ]
  },
  {
   "cell_type": "code",
   "execution_count": 8,
   "id": "1be690a1-a027-487d-9840-ae50d4fbafba",
   "metadata": {},
   "outputs": [
    {
     "name": "stdout",
     "output_type": "stream",
     "text": [
      "root\n",
      " |-- movieId: integer (nullable = true)\n",
      " |-- imdbId: integer (nullable = true)\n",
      " |-- tmdbId: integer (nullable = true)\n",
      "\n"
     ]
    }
   ],
   "source": [
    "df_links = spark.read.csv('links.csv', inferSchema=True, header=True) \n",
    "df_links.printSchema()"
   ]
  },
  {
   "cell_type": "code",
   "execution_count": 9,
   "id": "85579d0d-1895-4eb3-b502-22f49ca72408",
   "metadata": {},
   "outputs": [
    {
     "name": "stdout",
     "output_type": "stream",
     "text": [
      "+-------+------+------+\n",
      "|movieId|imdbId|tmdbId|\n",
      "+-------+------+------+\n",
      "|      1|114709|   862|\n",
      "|      2|113497|  8844|\n",
      "|      3|113228| 15602|\n",
      "|      4|114885| 31357|\n",
      "|      5|113041| 11862|\n",
      "|      6|113277|   949|\n",
      "|      7|114319| 11860|\n",
      "|      8|112302| 45325|\n",
      "|      9|114576|  9091|\n",
      "|     10|113189|   710|\n",
      "|     11|112346|  9087|\n",
      "|     12|112896| 12110|\n",
      "|     13|112453| 21032|\n",
      "|     14|113987| 10858|\n",
      "|     15|112760|  1408|\n",
      "|     16|112641|   524|\n",
      "|     17|114388|  4584|\n",
      "|     18|113101|     5|\n",
      "|     19|112281|  9273|\n",
      "|     20|113845| 11517|\n",
      "+-------+------+------+\n",
      "only showing top 20 rows\n",
      "\n"
     ]
    }
   ],
   "source": [
    "df_links.show()"
   ]
  },
  {
   "cell_type": "code",
   "execution_count": 10,
   "id": "5c43cbf5-6cb8-46a3-b7ca-fc6a19ab082e",
   "metadata": {},
   "outputs": [
    {
     "name": "stdout",
     "output_type": "stream",
     "text": [
      "+-------+------+------+\n",
      "|movieId|imdbId|tmdbId|\n",
      "+-------+------+------+\n",
      "|      1|114709|   862|\n",
      "|      2|113497|  8844|\n",
      "|      3|113228| 15602|\n",
      "|      4|114885| 31357|\n",
      "|      5|113041| 11862|\n",
      "|      6|113277|   949|\n",
      "|      7|114319| 11860|\n",
      "|      8|112302| 45325|\n",
      "|      9|114576|  9091|\n",
      "|     10|113189|   710|\n",
      "|     11|112346|  9087|\n",
      "|     12|112896| 12110|\n",
      "|     13|112453| 21032|\n",
      "|     14|113987| 10858|\n",
      "|     15|112760|  1408|\n",
      "|     16|112641|   524|\n",
      "|     17|114388|  4584|\n",
      "|     18|113101|     5|\n",
      "|     19|112281|  9273|\n",
      "|     20|113845| 11517|\n",
      "+-------+------+------+\n",
      "only showing top 20 rows\n",
      "\n"
     ]
    }
   ],
   "source": [
    "# Drop rows with null values\n",
    "df_linksclean = df_links.na.drop()\n",
    "\n",
    "# Show the resulting DataFrame\n",
    "df_linksclean.show()"
   ]
  },
  {
   "cell_type": "code",
   "execution_count": 11,
   "id": "10f2b3be-5cd4-4ad9-abac-9f1009348bf3",
   "metadata": {},
   "outputs": [
    {
     "name": "stderr",
     "output_type": "stream",
     "text": [
      "[Stage 10:>                                                         (0 + 1) / 1]\r"
     ]
    },
    {
     "name": "stdout",
     "output_type": "stream",
     "text": [
      "+-------+--------------------+--------------------+\n",
      "|movieId|               title|              genres|\n",
      "+-------+--------------------+--------------------+\n",
      "|      1|    Toy Story (1995)|Adventure|Animati...|\n",
      "|      2|      Jumanji (1995)|Adventure|Childre...|\n",
      "|      3|Grumpier Old Men ...|      Comedy|Romance|\n",
      "|      4|Waiting to Exhale...|Comedy|Drama|Romance|\n",
      "|      5|Father of the Bri...|              Comedy|\n",
      "|      6|         Heat (1995)|Action|Crime|Thri...|\n",
      "|      7|      Sabrina (1995)|      Comedy|Romance|\n",
      "|      8| Tom and Huck (1995)|  Adventure|Children|\n",
      "|      9| Sudden Death (1995)|              Action|\n",
      "|     10|    GoldenEye (1995)|Action|Adventure|...|\n",
      "|     11|American Presiden...|Comedy|Drama|Romance|\n",
      "|     12|Dracula: Dead and...|       Comedy|Horror|\n",
      "|     13|        Balto (1995)|Adventure|Animati...|\n",
      "|     14|        Nixon (1995)|               Drama|\n",
      "|     15|Cutthroat Island ...|Action|Adventure|...|\n",
      "|     16|       Casino (1995)|         Crime|Drama|\n",
      "|     17|Sense and Sensibi...|       Drama|Romance|\n",
      "|     18|   Four Rooms (1995)|              Comedy|\n",
      "|     19|Ace Ventura: When...|              Comedy|\n",
      "|     20|  Money Train (1995)|Action|Comedy|Cri...|\n",
      "+-------+--------------------+--------------------+\n",
      "only showing top 20 rows\n",
      "\n"
     ]
    },
    {
     "name": "stderr",
     "output_type": "stream",
     "text": [
      "                                                                                \r"
     ]
    }
   ],
   "source": [
    "# Xóa các dòng có giá trị \"(no genres listed)\" theo số movieId\n",
    "df_moviesclean = df_movies.filter(col('genres') != '(no genres listed)')\n",
    "\n",
    "# Giữ lại một dòng duy nhất cho mỗi số movieId\n",
    "df_moviesclean = df_moviesclean.dropDuplicates(['movieId'])\n",
    "\n",
    "# Hiển thị PySpark DataFrame sau khi xóa\n",
    "df_moviesclean.show()"
   ]
  },
  {
   "cell_type": "code",
   "execution_count": 12,
   "id": "cac2192f-8925-4f34-9240-69bb290ff3b9",
   "metadata": {},
   "outputs": [
    {
     "name": "stderr",
     "output_type": "stream",
     "text": [
      "[Stage 13:>                                                         (0 + 1) / 1]\r"
     ]
    },
    {
     "name": "stdout",
     "output_type": "stream",
     "text": [
      "+-------+------------------------------+-------------------------------------------+----+\n",
      "|movieId|title                         |genres                                     |year|\n",
      "+-------+------------------------------+-------------------------------------------+----+\n",
      "|1      |Toy Story                     |Adventure|Animation|Children|Comedy|Fantasy|1995|\n",
      "|2      |Jumanji                       |Adventure|Children|Fantasy                 |1995|\n",
      "|3      |Grumpier Old Men              |Comedy|Romance                             |1995|\n",
      "|4      |Waiting to Exhale             |Comedy|Drama|Romance                       |1995|\n",
      "|5      |Father of the Bride Part II   |Comedy                                     |1995|\n",
      "|6      |Heat                          |Action|Crime|Thriller                      |1995|\n",
      "|7      |Sabrina                       |Comedy|Romance                             |1995|\n",
      "|8      |Tom and Huck                  |Adventure|Children                         |1995|\n",
      "|9      |Sudden Death                  |Action                                     |1995|\n",
      "|10     |GoldenEye                     |Action|Adventure|Thriller                  |1995|\n",
      "|11     |American President, The       |Comedy|Drama|Romance                       |1995|\n",
      "|12     |Dracula: Dead and Loving It   |Comedy|Horror                              |1995|\n",
      "|13     |Balto                         |Adventure|Animation|Children               |1995|\n",
      "|14     |Nixon                         |Drama                                      |1995|\n",
      "|15     |Cutthroat Island              |Action|Adventure|Romance                   |1995|\n",
      "|16     |Casino                        |Crime|Drama                                |1995|\n",
      "|17     |Sense and Sensibility         |Drama|Romance                              |1995|\n",
      "|18     |Four Rooms                    |Comedy                                     |1995|\n",
      "|19     |Ace Ventura: When Nature Calls|Comedy                                     |1995|\n",
      "|20     |Money Train                   |Action|Comedy|Crime|Drama|Thriller         |1995|\n",
      "+-------+------------------------------+-------------------------------------------+----+\n",
      "only showing top 20 rows\n",
      "\n"
     ]
    },
    {
     "name": "stderr",
     "output_type": "stream",
     "text": [
      "                                                                                \r"
     ]
    }
   ],
   "source": [
    "# Define a regular expression to extract the year\n",
    "year_pattern = r\"\\((\\d{4})\\)\"\n",
    "\n",
    "# Extract the year from the 'title' column\n",
    "df_moviesclean = df_moviesclean.withColumn(\"year\", regexp_extract(df_moviesclean[\"title\"], year_pattern, 1))\n",
    "\n",
    "# Split the 'title' column into 'title' and 'year' columns\n",
    "df_moviesclean = df_moviesclean.withColumn(\"title\", regexp_extract(df_moviesclean[\"title\"], \"^(.*?)\\s\\(\\d{4}\\)\", 1))\n",
    "\n",
    "# Show the updated DataFrame\n",
    "df_moviesclean.show(truncate=False)"
   ]
  },
  {
   "cell_type": "code",
   "execution_count": 13,
   "id": "a707fabf-6e86-48ab-a498-1b98d16fe98f",
   "metadata": {},
   "outputs": [
    {
     "name": "stdout",
     "output_type": "stream",
     "text": [
      "+-------+------------------------------+----+---------+---------+--------+-------+--------+-------+-------+-------+-------+--------+\n",
      "|movieId|title                         |year|genre_1  |genre_2  |genre_3 |genre_4|genre_5 |genre_6|genre_7|genre_8|genre_9|genre_10|\n",
      "+-------+------------------------------+----+---------+---------+--------+-------+--------+-------+-------+-------+-------+--------+\n",
      "|1      |Toy Story                     |1995|Adventure|Animation|Children|Comedy |Fantasy |NULL   |NULL   |NULL   |NULL   |NULL    |\n",
      "|2      |Jumanji                       |1995|Adventure|Children |Fantasy |NULL   |NULL    |NULL   |NULL   |NULL   |NULL   |NULL    |\n",
      "|3      |Grumpier Old Men              |1995|Comedy   |Romance  |NULL    |NULL   |NULL    |NULL   |NULL   |NULL   |NULL   |NULL    |\n",
      "|4      |Waiting to Exhale             |1995|Comedy   |Drama    |Romance |NULL   |NULL    |NULL   |NULL   |NULL   |NULL   |NULL    |\n",
      "|5      |Father of the Bride Part II   |1995|Comedy   |NULL     |NULL    |NULL   |NULL    |NULL   |NULL   |NULL   |NULL   |NULL    |\n",
      "|6      |Heat                          |1995|Action   |Crime    |Thriller|NULL   |NULL    |NULL   |NULL   |NULL   |NULL   |NULL    |\n",
      "|7      |Sabrina                       |1995|Comedy   |Romance  |NULL    |NULL   |NULL    |NULL   |NULL   |NULL   |NULL   |NULL    |\n",
      "|8      |Tom and Huck                  |1995|Adventure|Children |NULL    |NULL   |NULL    |NULL   |NULL   |NULL   |NULL   |NULL    |\n",
      "|9      |Sudden Death                  |1995|Action   |NULL     |NULL    |NULL   |NULL    |NULL   |NULL   |NULL   |NULL   |NULL    |\n",
      "|10     |GoldenEye                     |1995|Action   |Adventure|Thriller|NULL   |NULL    |NULL   |NULL   |NULL   |NULL   |NULL    |\n",
      "|11     |American President, The       |1995|Comedy   |Drama    |Romance |NULL   |NULL    |NULL   |NULL   |NULL   |NULL   |NULL    |\n",
      "|12     |Dracula: Dead and Loving It   |1995|Comedy   |Horror   |NULL    |NULL   |NULL    |NULL   |NULL   |NULL   |NULL   |NULL    |\n",
      "|13     |Balto                         |1995|Adventure|Animation|Children|NULL   |NULL    |NULL   |NULL   |NULL   |NULL   |NULL    |\n",
      "|14     |Nixon                         |1995|Drama    |NULL     |NULL    |NULL   |NULL    |NULL   |NULL   |NULL   |NULL   |NULL    |\n",
      "|15     |Cutthroat Island              |1995|Action   |Adventure|Romance |NULL   |NULL    |NULL   |NULL   |NULL   |NULL   |NULL    |\n",
      "|16     |Casino                        |1995|Crime    |Drama    |NULL    |NULL   |NULL    |NULL   |NULL   |NULL   |NULL   |NULL    |\n",
      "|17     |Sense and Sensibility         |1995|Drama    |Romance  |NULL    |NULL   |NULL    |NULL   |NULL   |NULL   |NULL   |NULL    |\n",
      "|18     |Four Rooms                    |1995|Comedy   |NULL     |NULL    |NULL   |NULL    |NULL   |NULL   |NULL   |NULL   |NULL    |\n",
      "|19     |Ace Ventura: When Nature Calls|1995|Comedy   |NULL     |NULL    |NULL   |NULL    |NULL   |NULL   |NULL   |NULL   |NULL    |\n",
      "|20     |Money Train                   |1995|Action   |Comedy   |Crime   |Drama  |Thriller|NULL   |NULL   |NULL   |NULL   |NULL    |\n",
      "+-------+------------------------------+----+---------+---------+--------+-------+--------+-------+-------+-------+-------+--------+\n",
      "only showing top 20 rows\n",
      "\n"
     ]
    }
   ],
   "source": [
    "# Tách cột genres thành nhiều cột\n",
    "max_genres = 10  # Số lượng cột genres tối đa bạn muốn tạo\n",
    "\n",
    "# Thêm cột mới \"genres_array\" chứa mảng các thể loại\n",
    "df_moviesclean = df_moviesclean.withColumn(\"genres_array\", split(col(\"genres\"), \"\\\\|\"))\n",
    "\n",
    "# Tạo các cột genre_1, genre_2, ..., genre_max_genres\n",
    "for i in range(1, max_genres + 1):\n",
    "    df_moviesclean = df_moviesclean.withColumn(f\"genre_{i}\", when(col(\"genres_array\").getItem(i - 1).isNotNull(), col(\"genres_array\").getItem(i - 1)))\n",
    "\n",
    "# Hiển thị kết quả\n",
    "df_moviesclean = df_moviesclean.select([\"movieId\", \"title\", \"year\"] + [f\"genre_{i}\" for i in range(1, max_genres + 1)])\n",
    "df_moviesclean.show(truncate=False)"
   ]
  },
  {
   "cell_type": "code",
   "execution_count": 14,
   "id": "10fa0af5-7b19-443a-930e-c80a495cdb3f",
   "metadata": {},
   "outputs": [
    {
     "name": "stdout",
     "output_type": "stream",
     "text": [
      "+-------+------------------------------+----+---------+---------+--------+-------+--------+-------+-------+-------+-------+--------+\n",
      "|movieId|title                         |year|genre_1  |genre_2  |genre_3 |genre_4|genre_5 |genre_6|genre_7|genre_8|genre_9|genre_10|\n",
      "+-------+------------------------------+----+---------+---------+--------+-------+--------+-------+-------+-------+-------+--------+\n",
      "|1      |Toy Story                     |1995|Adventure|Animation|Children|Comedy |Fantasy |       |       |       |       |        |\n",
      "|2      |Jumanji                       |1995|Adventure|Children |Fantasy |       |        |       |       |       |       |        |\n",
      "|3      |Grumpier Old Men              |1995|Comedy   |Romance  |        |       |        |       |       |       |       |        |\n",
      "|4      |Waiting to Exhale             |1995|Comedy   |Drama    |Romance |       |        |       |       |       |       |        |\n",
      "|5      |Father of the Bride Part II   |1995|Comedy   |         |        |       |        |       |       |       |       |        |\n",
      "|6      |Heat                          |1995|Action   |Crime    |Thriller|       |        |       |       |       |       |        |\n",
      "|7      |Sabrina                       |1995|Comedy   |Romance  |        |       |        |       |       |       |       |        |\n",
      "|8      |Tom and Huck                  |1995|Adventure|Children |        |       |        |       |       |       |       |        |\n",
      "|9      |Sudden Death                  |1995|Action   |         |        |       |        |       |       |       |       |        |\n",
      "|10     |GoldenEye                     |1995|Action   |Adventure|Thriller|       |        |       |       |       |       |        |\n",
      "|11     |American President, The       |1995|Comedy   |Drama    |Romance |       |        |       |       |       |       |        |\n",
      "|12     |Dracula: Dead and Loving It   |1995|Comedy   |Horror   |        |       |        |       |       |       |       |        |\n",
      "|13     |Balto                         |1995|Adventure|Animation|Children|       |        |       |       |       |       |        |\n",
      "|14     |Nixon                         |1995|Drama    |         |        |       |        |       |       |       |       |        |\n",
      "|15     |Cutthroat Island              |1995|Action   |Adventure|Romance |       |        |       |       |       |       |        |\n",
      "|16     |Casino                        |1995|Crime    |Drama    |        |       |        |       |       |       |       |        |\n",
      "|17     |Sense and Sensibility         |1995|Drama    |Romance  |        |       |        |       |       |       |       |        |\n",
      "|18     |Four Rooms                    |1995|Comedy   |         |        |       |        |       |       |       |       |        |\n",
      "|19     |Ace Ventura: When Nature Calls|1995|Comedy   |         |        |       |        |       |       |       |       |        |\n",
      "|20     |Money Train                   |1995|Action   |Comedy   |Crime   |Drama  |Thriller|       |       |       |       |        |\n",
      "+-------+------------------------------+----+---------+---------+--------+-------+--------+-------+-------+-------+-------+--------+\n",
      "only showing top 20 rows\n",
      "\n"
     ]
    }
   ],
   "source": [
    "# Thay thế giá trị null bằng chuỗi trống\n",
    "df_moviesclean = df_moviesclean.na.fill(\"\")\n",
    "\n",
    "# Hiển thị kết quả\n",
    "df_moviesclean.show(truncate=False)"
   ]
  },
  {
   "cell_type": "code",
   "execution_count": 15,
   "id": "3c1cabd5-1bb7-440b-809d-6a2306b6206b",
   "metadata": {},
   "outputs": [
    {
     "name": "stdout",
     "output_type": "stream",
     "text": [
      "Số lượng giá trị ratings trùng lặp: 0\n",
      "\n",
      "Số lượng giá trị ratings bị thiếu: 0\n"
     ]
    }
   ],
   "source": [
    "# Số lượng giá trị ratings trùng lặp\n",
    "duplicate_count = df_moviesclean.groupBy(df_moviesclean.columns).count().filter(col(\"count\") > 1).count()\n",
    "print('Số lượng giá trị ratings trùng lặp:', duplicate_count)\n",
    "\n",
    "# Số lượng giá trị ratings bị thiếu\n",
    "missing_count = df_moviesclean.agg(*[sum(col(c).isNull().cast(\"int\")).alias(c) for c in df_moviesclean.columns]).toPandas().iloc[0].sum()\n",
    "print('\\nSố lượng giá trị ratings bị thiếu:', missing_count)"
   ]
  },
  {
   "cell_type": "code",
   "execution_count": 16,
   "id": "c83785d8-18f6-4137-b45c-88204cdd3f40",
   "metadata": {},
   "outputs": [
    {
     "name": "stdout",
     "output_type": "stream",
     "text": [
      "Số lượng giá trị ratings trùng lặp: 0\n",
      "\n",
      "Số lượng giá trị ratings bị thiếu: 0\n"
     ]
    }
   ],
   "source": [
    "# Số lượng giá trị ratings trùng lặp\n",
    "duplicate_count = df_ratings.groupBy(df_ratings.columns).count().filter(col(\"count\") > 1).count()\n",
    "print('Số lượng giá trị ratings trùng lặp:', duplicate_count)\n",
    "\n",
    "# Số lượng giá trị ratings bị thiếu\n",
    "missing_count = df_ratings.agg(*[sum(col(c).isNull().cast(\"int\")).alias(c) for c in df_ratings.columns]).toPandas().iloc[0].sum()\n",
    "print('\\nSố lượng giá trị ratings bị thiếu:', missing_count)"
   ]
  },
  {
   "cell_type": "code",
   "execution_count": 17,
   "id": "421dd5f1-876a-40b1-b75e-8455e24e07c3",
   "metadata": {},
   "outputs": [
    {
     "name": "stdout",
     "output_type": "stream",
     "text": [
      "Số lượng giá trị ratings trùng lặp: 0\n",
      "\n",
      "Số lượng giá trị ratings bị thiếu: 0\n"
     ]
    }
   ],
   "source": [
    "# Số lượng giá trị ratings trùng lặp\n",
    "duplicate_count = df_linksclean.groupBy(df_linksclean.columns).count().filter(col(\"count\") > 1).count()\n",
    "print('Số lượng giá trị ratings trùng lặp:', duplicate_count)\n",
    "\n",
    "# Số lượng giá trị ratings bị thiếu\n",
    "missing_count = df_linksclean.agg(*[sum(col(c).isNull().cast(\"int\")).alias(c) for c in df_linksclean.columns]).toPandas().iloc[0].sum()\n",
    "print('\\nSố lượng giá trị ratings bị thiếu:', missing_count)"
   ]
  },
  {
   "cell_type": "code",
   "execution_count": 18,
   "id": "088e136a-f61a-486c-b9b3-3935ce79cbc4",
   "metadata": {},
   "outputs": [],
   "source": [
    "training_df, validation_df = df_ratings.randomSplit([.8, .2])"
   ]
  },
  {
   "cell_type": "code",
   "execution_count": 19,
   "id": "6e065f80-3d37-40f3-b005-15ea1f4bd72d",
   "metadata": {},
   "outputs": [],
   "source": [
    "# Số vòng lặp (iterations) cho thuật toán huấn luyện mô hình\n",
    "iterations = 10\n",
    "\n",
    "# Tham số regularization (chống quá mức) được sử dụng để kiểm soát độ phức tạp của mô hình và tránh overfitting\n",
    "regularization_parameter = 0.1\n",
    "\n",
    "# Rank là một tham số quan trọng liên quan đến kích thước ẩn của mô hình, thường được sử dụng trong các mô hình độ phức tạp cao như mô hình hệ thống gợi ý (recommendation systems)\n",
    "rank = 4\n",
    "\n",
    "# Một danh sách (errors) được sử dụng để lưu trữ các giá trị lỗi trong quá trình huấn luyện mô hình\n",
    "errors = []\n",
    "\n",
    "# Biến err được sử dụng để lưu trữ giá trị lỗi tạm thời trong mỗi vòng lặp\n",
    "err = 0"
   ]
  },
  {
   "cell_type": "code",
   "execution_count": 20,
   "id": "9cb17fd6-02df-43a6-9974-ef89cbfcd39c",
   "metadata": {},
   "outputs": [
    {
     "name": "stderr",
     "output_type": "stream",
     "text": [
      "                                                                                \r"
     ]
    },
    {
     "name": "stdout",
     "output_type": "stream",
     "text": [
      "Root-mean-square error = 0.8989010772560408\n"
     ]
    }
   ],
   "source": [
    "# Xây dựng mô hình ALS (Alternating Least Squares) với các tham số đã được đặt trước\n",
    "als = ALS(maxIter=iterations, regParam=regularization_parameter, rank=4, userCol=\"userId\", itemCol=\"movieId\", ratingCol=\"rating\")\n",
    "\n",
    "# Huấn luyện mô hình trên tập dữ liệu huấn luyện (training_df)\n",
    "model = als.fit(training_df)\n",
    "\n",
    "# Tạo dự đoán trên tập dữ liệu validation_df sử dụng mô hình đã huấn luyện\n",
    "predictions = model.transform(validation_df)\n",
    "\n",
    "# Loại bỏ các dự đoán có giá trị NaN (không phù hợp)\n",
    "new_predictions = predictions.filter(col('prediction') != np.nan)\n",
    "\n",
    "# Sử dụng đánh giá viên (evaluator) để đánh giá chất lượng dự đoán bằng cách tính Root Mean Square Error (RMSE)\n",
    "evaluator = RegressionEvaluator(metricName=\"rmse\", labelCol=\"rating\", predictionCol=\"prediction\")\n",
    "rmse = evaluator.evaluate(new_predictions)\n",
    "\n",
    "# In ra giá trị RMSE, một độ đo đánh giá chất lượng của mô hình hệ thống gợi ý\n",
    "print(\"Root-mean-square error = \" + str(rmse))\n"
   ]
  },
  {
   "cell_type": "code",
   "execution_count": 21,
   "id": "b9f66742-a9fc-4166-80bd-ae88e48c2f9c",
   "metadata": {},
   "outputs": [
    {
     "name": "stderr",
     "output_type": "stream",
     "text": [
      "                                                                                \r"
     ]
    },
    {
     "data": {
      "text/html": [
       "<div>\n",
       "<style scoped>\n",
       "    .dataframe tbody tr th:only-of-type {\n",
       "        vertical-align: middle;\n",
       "    }\n",
       "\n",
       "    .dataframe tbody tr th {\n",
       "        vertical-align: top;\n",
       "    }\n",
       "\n",
       "    .dataframe thead th {\n",
       "        text-align: right;\n",
       "    }\n",
       "</style>\n",
       "<table border=\"1\" class=\"dataframe\">\n",
       "  <thead>\n",
       "    <tr style=\"text-align: right;\">\n",
       "      <th></th>\n",
       "      <th>userId</th>\n",
       "      <th>movieId</th>\n",
       "      <th>rating</th>\n",
       "      <th>timestamp</th>\n",
       "      <th>prediction</th>\n",
       "    </tr>\n",
       "  </thead>\n",
       "  <tbody>\n",
       "    <tr>\n",
       "      <th>0</th>\n",
       "      <td>1</td>\n",
       "      <td>296</td>\n",
       "      <td>3.0</td>\n",
       "      <td>964982967</td>\n",
       "      <td>4.957024</td>\n",
       "    </tr>\n",
       "    <tr>\n",
       "      <th>1</th>\n",
       "      <td>1</td>\n",
       "      <td>362</td>\n",
       "      <td>5.0</td>\n",
       "      <td>964982588</td>\n",
       "      <td>4.121805</td>\n",
       "    </tr>\n",
       "    <tr>\n",
       "      <th>2</th>\n",
       "      <td>1</td>\n",
       "      <td>333</td>\n",
       "      <td>5.0</td>\n",
       "      <td>964981179</td>\n",
       "      <td>4.296164</td>\n",
       "    </tr>\n",
       "    <tr>\n",
       "      <th>3</th>\n",
       "      <td>1</td>\n",
       "      <td>157</td>\n",
       "      <td>5.0</td>\n",
       "      <td>964984100</td>\n",
       "      <td>3.262362</td>\n",
       "    </tr>\n",
       "    <tr>\n",
       "      <th>4</th>\n",
       "      <td>1</td>\n",
       "      <td>235</td>\n",
       "      <td>4.0</td>\n",
       "      <td>964980908</td>\n",
       "      <td>4.310140</td>\n",
       "    </tr>\n",
       "    <tr>\n",
       "      <th>5</th>\n",
       "      <td>1</td>\n",
       "      <td>780</td>\n",
       "      <td>3.0</td>\n",
       "      <td>964984086</td>\n",
       "      <td>3.994410</td>\n",
       "    </tr>\n",
       "    <tr>\n",
       "      <th>6</th>\n",
       "      <td>1</td>\n",
       "      <td>231</td>\n",
       "      <td>5.0</td>\n",
       "      <td>964981179</td>\n",
       "      <td>3.486946</td>\n",
       "    </tr>\n",
       "    <tr>\n",
       "      <th>7</th>\n",
       "      <td>1</td>\n",
       "      <td>70</td>\n",
       "      <td>3.0</td>\n",
       "      <td>964982400</td>\n",
       "      <td>4.081135</td>\n",
       "    </tr>\n",
       "    <tr>\n",
       "      <th>8</th>\n",
       "      <td>1</td>\n",
       "      <td>151</td>\n",
       "      <td>5.0</td>\n",
       "      <td>964984041</td>\n",
       "      <td>4.088965</td>\n",
       "    </tr>\n",
       "    <tr>\n",
       "      <th>9</th>\n",
       "      <td>1</td>\n",
       "      <td>110</td>\n",
       "      <td>4.0</td>\n",
       "      <td>964982176</td>\n",
       "      <td>4.667264</td>\n",
       "    </tr>\n",
       "  </tbody>\n",
       "</table>\n",
       "</div>"
      ],
      "text/plain": [
       "   userId  movieId  rating  timestamp  prediction\n",
       "0       1      296     3.0  964982967    4.957024\n",
       "1       1      362     5.0  964982588    4.121805\n",
       "2       1      333     5.0  964981179    4.296164\n",
       "3       1      157     5.0  964984100    3.262362\n",
       "4       1      235     4.0  964980908    4.310140\n",
       "5       1      780     3.0  964984086    3.994410\n",
       "6       1      231     5.0  964981179    3.486946\n",
       "7       1       70     3.0  964982400    4.081135\n",
       "8       1      151     5.0  964984041    4.088965\n",
       "9       1      110     4.0  964982176    4.667264"
      ]
     },
     "execution_count": 21,
     "metadata": {},
     "output_type": "execute_result"
    }
   ],
   "source": [
    "predictions.limit(10).toPandas()"
   ]
  },
  {
   "cell_type": "code",
   "execution_count": 22,
   "id": "3e84cf4c-5dd8-4147-bae1-8f206dd1c3a7",
   "metadata": {},
   "outputs": [
    {
     "name": "stderr",
     "output_type": "stream",
     "text": [
      "                                                                                \r"
     ]
    },
    {
     "data": {
      "text/html": [
       "<div>\n",
       "<style scoped>\n",
       "    .dataframe tbody tr th:only-of-type {\n",
       "        vertical-align: middle;\n",
       "    }\n",
       "\n",
       "    .dataframe tbody tr th {\n",
       "        vertical-align: top;\n",
       "    }\n",
       "\n",
       "    .dataframe thead th {\n",
       "        text-align: right;\n",
       "    }\n",
       "</style>\n",
       "<table border=\"1\" class=\"dataframe\">\n",
       "  <thead>\n",
       "    <tr style=\"text-align: right;\">\n",
       "      <th></th>\n",
       "      <th>userId</th>\n",
       "      <th>title</th>\n",
       "      <th>year</th>\n",
       "      <th>genre_1</th>\n",
       "      <th>genre_2</th>\n",
       "      <th>genre_3</th>\n",
       "      <th>genre_4</th>\n",
       "      <th>genre_5</th>\n",
       "      <th>genre_6</th>\n",
       "      <th>genre_7</th>\n",
       "      <th>genre_8</th>\n",
       "      <th>genre_9</th>\n",
       "      <th>genre_10</th>\n",
       "      <th>prediction</th>\n",
       "    </tr>\n",
       "  </thead>\n",
       "  <tbody>\n",
       "    <tr>\n",
       "      <th>0</th>\n",
       "      <td>148</td>\n",
       "      <td>Harry Potter and the Sorcerer's Stone (a.k.a. ...</td>\n",
       "      <td>2001</td>\n",
       "      <td>Adventure</td>\n",
       "      <td>Children</td>\n",
       "      <td>Fantasy</td>\n",
       "      <td></td>\n",
       "      <td></td>\n",
       "      <td></td>\n",
       "      <td></td>\n",
       "      <td></td>\n",
       "      <td></td>\n",
       "      <td></td>\n",
       "      <td>3.502250</td>\n",
       "    </tr>\n",
       "    <tr>\n",
       "      <th>1</th>\n",
       "      <td>148</td>\n",
       "      <td>Lord of the Rings: The Fellowship of the Ring,...</td>\n",
       "      <td>2001</td>\n",
       "      <td>Adventure</td>\n",
       "      <td>Fantasy</td>\n",
       "      <td></td>\n",
       "      <td></td>\n",
       "      <td></td>\n",
       "      <td></td>\n",
       "      <td></td>\n",
       "      <td></td>\n",
       "      <td></td>\n",
       "      <td></td>\n",
       "      <td>3.402360</td>\n",
       "    </tr>\n",
       "    <tr>\n",
       "      <th>2</th>\n",
       "      <td>148</td>\n",
       "      <td>Spirited Away (Sen to Chihiro no kamikakushi)</td>\n",
       "      <td>2001</td>\n",
       "      <td>Adventure</td>\n",
       "      <td>Animation</td>\n",
       "      <td>Fantasy</td>\n",
       "      <td></td>\n",
       "      <td></td>\n",
       "      <td></td>\n",
       "      <td></td>\n",
       "      <td></td>\n",
       "      <td></td>\n",
       "      <td></td>\n",
       "      <td>3.668964</td>\n",
       "    </tr>\n",
       "    <tr>\n",
       "      <th>3</th>\n",
       "      <td>148</td>\n",
       "      <td>Finding Nemo</td>\n",
       "      <td>2003</td>\n",
       "      <td>Adventure</td>\n",
       "      <td>Animation</td>\n",
       "      <td>Children</td>\n",
       "      <td>Comedy</td>\n",
       "      <td></td>\n",
       "      <td></td>\n",
       "      <td></td>\n",
       "      <td></td>\n",
       "      <td></td>\n",
       "      <td></td>\n",
       "      <td>3.700216</td>\n",
       "    </tr>\n",
       "    <tr>\n",
       "      <th>4</th>\n",
       "      <td>148</td>\n",
       "      <td>Pride &amp; Prejudice</td>\n",
       "      <td>2005</td>\n",
       "      <td>Drama</td>\n",
       "      <td>Romance</td>\n",
       "      <td></td>\n",
       "      <td></td>\n",
       "      <td></td>\n",
       "      <td></td>\n",
       "      <td></td>\n",
       "      <td></td>\n",
       "      <td></td>\n",
       "      <td></td>\n",
       "      <td>3.643405</td>\n",
       "    </tr>\n",
       "  </tbody>\n",
       "</table>\n",
       "</div>"
      ],
      "text/plain": [
       "   userId                                              title  year    genre_1  \\\n",
       "0     148  Harry Potter and the Sorcerer's Stone (a.k.a. ...  2001  Adventure   \n",
       "1     148  Lord of the Rings: The Fellowship of the Ring,...  2001  Adventure   \n",
       "2     148      Spirited Away (Sen to Chihiro no kamikakushi)  2001  Adventure   \n",
       "3     148                                       Finding Nemo  2003  Adventure   \n",
       "4     148                                  Pride & Prejudice  2005      Drama   \n",
       "\n",
       "     genre_2   genre_3 genre_4 genre_5 genre_6 genre_7 genre_8 genre_9  \\\n",
       "0   Children   Fantasy                                                   \n",
       "1    Fantasy                                                             \n",
       "2  Animation   Fantasy                                                   \n",
       "3  Animation  Children  Comedy                                           \n",
       "4    Romance                                                             \n",
       "\n",
       "  genre_10  prediction  \n",
       "0             3.502250  \n",
       "1             3.402360  \n",
       "2             3.668964  \n",
       "3             3.700216  \n",
       "4             3.643405  "
      ]
     },
     "execution_count": 22,
     "metadata": {},
     "output_type": "execute_result"
    }
   ],
   "source": [
    "predictions.join(df_moviesclean, \"movieId\").select(\"userId\", \"title\", \"year\", \"genre_1\", \"genre_2\", \"genre_3\", \"genre_4\", \"genre_5\", \"genre_6\", \"genre_7\", \"genre_8\", \"genre_9\", \"genre_10\", \"prediction\").limit(5).toPandas()"
   ]
  },
  {
   "cell_type": "code",
   "execution_count": 23,
   "id": "b3c55286-ab8c-489f-a7e2-17e909cd3c6f",
   "metadata": {},
   "outputs": [
    {
     "name": "stderr",
     "output_type": "stream",
     "text": [
      "                                                                                \r"
     ]
    },
    {
     "name": "stdout",
     "output_type": "stream",
     "text": [
      "+------+----------------+----+---------+---------+--------+-------+-------+-------+-------+-------+-------+--------+------+----------+\n",
      "|userId|           title|year|  genre_1|  genre_2| genre_3|genre_4|genre_5|genre_6|genre_7|genre_8|genre_9|genre_10|tmdbId|prediction|\n",
      "+------+----------------+----+---------+---------+--------+-------+-------+-------+-------+-------+-------+--------+------+----------+\n",
      "|   599|         Jumanji|1995|Adventure| Children| Fantasy|       |       |       |       |       |       |        |  8844| 2.7920644|\n",
      "|   599|         Sabrina|1995|   Comedy|  Romance|        |       |       |       |       |       |       |        | 11860| 2.4248939|\n",
      "|   599|Cutthroat Island|1995|   Action|Adventure| Romance|       |       |       |       |       |       |        |  1408| 2.1451287|\n",
      "|   599|      Four Rooms|1995|   Comedy|         |        |       |       |       |       |       |       |        |     5| 3.0255475|\n",
      "|   599|       Assassins|1995|   Action|    Crime|Thriller|       |       |       |       |       |       |        |  9691| 2.3836708|\n",
      "+------+----------------+----+---------+---------+--------+-------+-------+-------+-------+-------+-------+--------+------+----------+\n",
      "only showing top 5 rows\n",
      "\n"
     ]
    }
   ],
   "source": [
    "for_one_user = predictions.filter(col(\"userId\") == 599).join(df_moviesclean, \"movieId\").join(df_linksclean, \"movieId\").select(\"userId\", \"title\", \"year\", \"genre_1\", \"genre_2\", \"genre_3\", \"genre_4\", \"genre_5\", \"genre_6\", \"genre_7\", \"genre_8\", \"genre_9\", \"genre_10\", \"tmdbId\", \"prediction\")\n",
    "for_one_user.show(5)"
   ]
  },
  {
   "cell_type": "code",
   "execution_count": 24,
   "id": "60969233-c767-4d62-a1e2-4b4aef8e2557",
   "metadata": {},
   "outputs": [
    {
     "name": "stderr",
     "output_type": "stream",
     "text": [
      "                                                                                \r"
     ]
    },
    {
     "name": "stdout",
     "output_type": "stream",
     "text": [
      "Jumanji\n",
      "Sabrina\n"
     ]
    }
   ],
   "source": [
    "import webbrowser\n",
    "\n",
    "link = \"https://www.themoviedb.org/movie/\"\n",
    "\n",
    "for movie in for_one_user.take(2):\n",
    "    movieURL = link + str(movie.tmdbId)\n",
    "    print(movie.title)\n",
    "    webbrowser.open(movieURL)"
   ]
  },
  {
   "cell_type": "code",
   "execution_count": 25,
   "id": "ceddba8b-7de6-4f93-a41a-bd8789c32517",
   "metadata": {},
   "outputs": [
    {
     "name": "stderr",
     "output_type": "stream",
     "text": [
      "                                                                                \r"
     ]
    },
    {
     "name": "stdout",
     "output_type": "stream",
     "text": [
      "+------+--------------------+----+-------+---------+---------+--------+--------+-------+-------+-------+-------+--------+------+----------+\n",
      "|userId|               title|year|genre_1|  genre_2|  genre_3| genre_4| genre_5|genre_6|genre_7|genre_8|genre_9|genre_10|tmdbId|prediction|\n",
      "+------+--------------------+----+-------+---------+---------+--------+--------+-------+-------+-------+-------+--------+------+----------+\n",
      "|    10|Twilight Saga: Ne...|2009|  Drama|  Fantasy|   Horror| Romance|Thriller|       |       |       |       |        | 18239|  1.599179|\n",
      "|    10|     Chasing Liberty|2004| Comedy|  Romance|         |        |        |       |       |       |       |        | 14844|  4.141877|\n",
      "|    10|    Incredibles, The|2004| Action|Adventure|Animation|Children|  Comedy|       |       |       |       |        |  9806| 2.9307492|\n",
      "|    10|       Batman Begins|2005| Action|    Crime|     IMAX|        |        |       |       |       |       |        |   272| 3.1557572|\n",
      "|    10|Bridget Jones's D...|2001| Comedy|    Drama|  Romance|        |        |       |       |       |       |        |   634| 2.4188907|\n",
      "+------+--------------------+----+-------+---------+---------+--------+--------+-------+-------+-------+-------+--------+------+----------+\n",
      "only showing top 5 rows\n",
      "\n"
     ]
    }
   ],
   "source": [
    "for_one_user1 = predictions.filter(col(\"userId\") == 10).join(df_moviesclean, \"movieId\").join(df_linksclean, \"movieId\").select(\"userId\", \"title\", \"year\", \"genre_1\", \"genre_2\", \"genre_3\", \"genre_4\", \"genre_5\", \"genre_6\", \"genre_7\", \"genre_8\", \"genre_9\", \"genre_10\", \"tmdbId\", \"prediction\")\n",
    "for_one_user1.show(5)"
   ]
  },
  {
   "cell_type": "code",
   "execution_count": 26,
   "id": "90a46900-247f-4cce-bc02-2643e8445521",
   "metadata": {},
   "outputs": [
    {
     "name": "stderr",
     "output_type": "stream",
     "text": [
      "                                                                                \r"
     ]
    },
    {
     "name": "stdout",
     "output_type": "stream",
     "text": [
      "Twilight Saga: New Moon, The\n",
      "Chasing Liberty\n"
     ]
    }
   ],
   "source": [
    "import webbrowser\n",
    "\n",
    "link = \"https://www.themoviedb.org/movie/\"\n",
    "\n",
    "for movie in for_one_user1.take(2):\n",
    "    movieURL = link + str(movie.tmdbId)\n",
    "    print(movie.title)\n",
    "    webbrowser.open(movieURL)"
   ]
  },
  {
   "cell_type": "code",
   "execution_count": 27,
   "id": "63218c58-4d2c-4da5-a59d-1c9238fa49ad",
   "metadata": {},
   "outputs": [],
   "source": [
    "# Tạo ra 5 gợi ý xếp hạng cho tất cả người dùng dựa trên mô hình đã huấn luyện\n",
    "userRecomments = model.recommendForAllUsers(5)\n",
    "\n",
    "# Tạo ra 5 gợi ý xếp hạng cho tất cả sản phẩm dựa trên mô hình đã huấn luyện\n",
    "movieRecomments = model.recommendForAllItems(5)"
   ]
  },
  {
   "cell_type": "code",
   "execution_count": 28,
   "id": "d0b722eb-c4af-416f-9440-516fa7144662",
   "metadata": {},
   "outputs": [
    {
     "name": "stdout",
     "output_type": "stream",
     "text": [
      "root\n",
      " |-- userId: integer (nullable = false)\n",
      " |-- recommendations: array (nullable = true)\n",
      " |    |-- element: struct (containsNull = true)\n",
      " |    |    |-- movieId: integer (nullable = true)\n",
      " |    |    |-- rating: float (nullable = true)\n",
      "\n"
     ]
    }
   ],
   "source": [
    "userRecomments.printSchema()"
   ]
  },
  {
   "cell_type": "code",
   "execution_count": 29,
   "id": "887eb974-4f94-456a-8741-fc394b251768",
   "metadata": {},
   "outputs": [
    {
     "name": "stderr",
     "output_type": "stream",
     "text": [
      "[Stage 545:===================================================>  (95 + 2) / 100]\r"
     ]
    },
    {
     "name": "stdout",
     "output_type": "stream",
     "text": [
      "+------+----------------------------------+\n",
      "|userId|movieId                           |\n",
      "+------+----------------------------------+\n",
      "|1     |[3379, 6201, 4495, 2295, 33649]   |\n",
      "|2     |[59018, 3379, 5075, 77846, 25906] |\n",
      "|3     |[3223, 89118, 2488, 4863, 25771]  |\n",
      "|4     |[7116, 4794, 7564, 6975, 2007]    |\n",
      "|5     |[8477, 6818, 148881, 89759, 6201] |\n",
      "|6     |[4794, 1034, 7116, 2290, 1046]    |\n",
      "|7     |[4794, 1034, 7116, 2290, 1046]    |\n",
      "|8     |[3379, 8477, 6201, 4495, 2295]    |\n",
      "|9     |[8477, 6818, 25771, 6201, 4495]   |\n",
      "|10    |[112804, 4082, 5075, 90888, 67695]|\n",
      "+------+----------------------------------+\n",
      "only showing top 10 rows\n",
      "\n"
     ]
    },
    {
     "name": "stderr",
     "output_type": "stream",
     "text": [
      "                                                                                \r"
     ]
    }
   ],
   "source": [
    "userRecomments.select(\"userId\", \"recommendations.movieId\").show(10, False)"
   ]
  },
  {
   "cell_type": "code",
   "execution_count": 30,
   "id": "632fc1fc-a696-47d6-81a6-069e9d91fcc1",
   "metadata": {},
   "outputs": [
    {
     "name": "stderr",
     "output_type": "stream",
     "text": [
      "[Stage 594:====================================================> (98 + 2) / 100]\r"
     ]
    },
    {
     "name": "stdout",
     "output_type": "stream",
     "text": [
      "+-------+------------------------+\n",
      "|movieId|userId                  |\n",
      "+-------+------------------------+\n",
      "|1      |[53, 578, 12, 452, 43]  |\n",
      "|3      |[53, 43, 543, 337, 93]  |\n",
      "|5      |[43, 53, 543, 544, 337] |\n",
      "|6      |[53, 12, 578, 452, 594] |\n",
      "|9      |[543, 43, 53, 243, 492] |\n",
      "|12     |[55, 406, 388, 360, 594]|\n",
      "|13     |[53, 43, 543, 337, 544] |\n",
      "|15     |[543, 138, 53, 584, 337]|\n",
      "|16     |[53, 578, 12, 43, 250]  |\n",
      "|17     |[43, 258, 53, 296, 505] |\n",
      "+-------+------------------------+\n",
      "only showing top 10 rows\n",
      "\n"
     ]
    },
    {
     "name": "stderr",
     "output_type": "stream",
     "text": [
      "                                                                                \r"
     ]
    }
   ],
   "source": [
    "movieRecomments.select(\"movieId\", \"recommendations.userId\").show(10, False)"
   ]
  },
  {
   "cell_type": "code",
   "execution_count": 32,
   "id": "c4e206b7-5857-41ef-bab0-54ff49dced0b",
   "metadata": {},
   "outputs": [
    {
     "name": "stdout",
     "output_type": "stream",
     "text": [
      "+------+\n",
      "|userId|\n",
      "+------+\n",
      "|   148|\n",
      "|   463|\n",
      "|   471|\n",
      "+------+\n",
      "\n"
     ]
    }
   ],
   "source": [
    "users = df_ratings.select(\"userId\").distinct().limit(3)\n",
    "users.show()"
   ]
  },
  {
   "cell_type": "code",
   "execution_count": 33,
   "id": "2951e2ce-399d-448a-a900-2250e17cf115",
   "metadata": {},
   "outputs": [],
   "source": [
    "userSubsetRecs = model.recommendForUserSubset(users, 10)"
   ]
  },
  {
   "cell_type": "code",
   "execution_count": 34,
   "id": "bfdb1657-af3d-4d78-841a-33ebf6584170",
   "metadata": {},
   "outputs": [
    {
     "name": "stderr",
     "output_type": "stream",
     "text": [
      "[Stage 652:==================================================>   (94 + 2) / 100]\r"
     ]
    },
    {
     "name": "stdout",
     "output_type": "stream",
     "text": [
      "+------+--------------------+\n",
      "|userId|     recommendations|\n",
      "+------+--------------------+\n",
      "|   471|[{3379, 5.0479555...|\n",
      "|   463|[{3379, 5.2748623...|\n",
      "|   148|[{26171, 5.321882...|\n",
      "+------+--------------------+\n",
      "\n"
     ]
    },
    {
     "name": "stderr",
     "output_type": "stream",
     "text": [
      "                                                                                \r"
     ]
    }
   ],
   "source": [
    "userSubsetRecs.show()"
   ]
  },
  {
   "cell_type": "code",
   "execution_count": 35,
   "id": "0d759d01-d866-439e-99d9-838bb368725f",
   "metadata": {},
   "outputs": [
    {
     "name": "stderr",
     "output_type": "stream",
     "text": [
      "[Stage 707:==============================================>       (86 + 3) / 100]\r"
     ]
    },
    {
     "name": "stdout",
     "output_type": "stream",
     "text": [
      "+------+-----------------------------------------------------------------------+\n",
      "|userId|movieId                                                                |\n",
      "+------+-----------------------------------------------------------------------+\n",
      "|471   |[3379, 26171, 141718, 945, 33649, 59018, 77846, 25906, 89904, 6732]    |\n",
      "|463   |[3379, 104339, 33649, 3200, 5607, 3746, 179135, 138966, 134796, 117531]|\n",
      "|148   |[26171, 3379, 6732, 945, 81535, 173145, 59018, 44943, 67618, 94810]    |\n",
      "+------+-----------------------------------------------------------------------+\n",
      "\n"
     ]
    },
    {
     "name": "stderr",
     "output_type": "stream",
     "text": [
      "                                                                                \r"
     ]
    }
   ],
   "source": [
    "userSubsetRecs.select(\"userId\", \"recommendations.movieId\").show(10, False)"
   ]
  },
  {
   "cell_type": "code",
   "execution_count": 36,
   "id": "037cfab8-f7b4-4262-bc5b-81a110b50622",
   "metadata": {},
   "outputs": [
    {
     "name": "stdout",
     "output_type": "stream",
     "text": [
      "+-------+\n",
      "|movieId|\n",
      "+-------+\n",
      "|   1580|\n",
      "|   2366|\n",
      "|   3175|\n",
      "+-------+\n",
      "\n"
     ]
    }
   ],
   "source": [
    "movies = df_ratings.select(\"movieId\").distinct().limit(3)\n",
    "movies.show()"
   ]
  },
  {
   "cell_type": "code",
   "execution_count": 37,
   "id": "cb299113-7a2c-4904-9168-f0750fb44e07",
   "metadata": {},
   "outputs": [
    {
     "name": "stderr",
     "output_type": "stream",
     "text": [
      "[Stage 765:==========================================>           (78 + 2) / 100]\r"
     ]
    },
    {
     "name": "stdout",
     "output_type": "stream",
     "text": [
      "+-------+------------------------------------------------+\n",
      "|movieId|userId                                          |\n",
      "+-------+------------------------------------------------+\n",
      "|1580   |[53, 12, 452, 578, 93, 327, 276, 413, 169, 475] |\n",
      "|3175   |[12, 53, 578, 594, 452, 99, 93, 169, 523, 475]  |\n",
      "|2366   |[258, 154, 147, 547, 43, 296, 206, 295, 90, 505]|\n",
      "+-------+------------------------------------------------+\n",
      "\n"
     ]
    },
    {
     "name": "stderr",
     "output_type": "stream",
     "text": [
      "                                                                                \r"
     ]
    }
   ],
   "source": [
    "# Tạo ra 10 gợi ý xếp hạng người dùng cho tập hợp con sản phẩm đã được chỉ định (movies) dựa trên mô hình đã huấn luyện\n",
    "movieSubSetRecs = model.recommendForItemSubset(movies, 10)\n",
    "# Chọn các cột \"movieId\" và \"recommendations.userId\" từ DataFrame 'movieSubSetRecs'\n",
    "# Hiển thị 10 dòng đầu tiên của kết quả, trong đó \"recommendations.userId\" là danh sách các người dùng được gợi ý cho từng sản phẩm\n",
    "movieSubSetRecs.select(\"movieId\", \"recommendations.userId\").show(10, False)"
   ]
  },
  {
   "cell_type": "code",
   "execution_count": 38,
   "id": "f56e0c3b-cbbd-482d-b0ae-e4012a07ea6f",
   "metadata": {},
   "outputs": [],
   "source": [
    "# Tạo danh sách movie_ids và user_ids\n",
    "movie_ids = [1580, 3175, 2366, 1590]\n",
    "user_ids = [543, 543, 543, 543]\n",
    "\n",
    "# Tạo DataFrame mới 'new_user_preds' từ danh sách movie_ids và user_ids\n",
    "new_user_preds = sqlContext.createDataFrame(zip(movie_ids, user_ids), schema=[\"movieId\", \"userId\"])"
   ]
  },
  {
   "cell_type": "code",
   "execution_count": 39,
   "id": "ebeaecf9-c148-4f06-acc6-e8a6d192b220",
   "metadata": {},
   "outputs": [
    {
     "name": "stderr",
     "output_type": "stream",
     "text": [
      "                                                                                \r"
     ]
    },
    {
     "name": "stdout",
     "output_type": "stream",
     "text": [
      "+-------+------+----------+\n",
      "|movieId|userId|prediction|\n",
      "+-------+------+----------+\n",
      "|   1580|   543| 4.2041736|\n",
      "|   3175|   543| 3.8834827|\n",
      "|   2366|   543|  3.769218|\n",
      "|   1590|   543| 2.5117478|\n",
      "+-------+------+----------+\n",
      "\n"
     ]
    }
   ],
   "source": [
    "# Sử dụng mô hình để tạo ra các dự đoán xếp hạng cho DataFrame 'new_user_preds'\n",
    "new_predictions = model.transform(new_user_preds)\n",
    "\n",
    "# Hiển thị kết quả\n",
    "new_predictions.show()"
   ]
  },
  {
   "cell_type": "code",
   "execution_count": null,
   "id": "720c6f2c-0769-4565-b6dc-ed107b3a78c7",
   "metadata": {},
   "outputs": [],
   "source": []
  }
 ],
 "metadata": {
  "kernelspec": {
   "display_name": "Python 3 (ipykernel)",
   "language": "python",
   "name": "python3"
  },
  "language_info": {
   "codemirror_mode": {
    "name": "ipython",
    "version": 3
   },
   "file_extension": ".py",
   "mimetype": "text/x-python",
   "name": "python",
   "nbconvert_exporter": "python",
   "pygments_lexer": "ipython3",
   "version": "3.10.12"
  }
 },
 "nbformat": 4,
 "nbformat_minor": 5
}
